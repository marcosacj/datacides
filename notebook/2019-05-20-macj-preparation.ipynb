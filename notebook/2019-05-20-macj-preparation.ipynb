{
 "cells": [
  {
   "cell_type": "markdown",
   "metadata": {
    "colab_type": "text",
    "id": "-HJK_DjUxe38"
   },
   "source": [
    "# Preparation"
   ]
  },
  {
   "cell_type": "markdown",
   "metadata": {
    "colab_type": "text",
    "id": "gHUXTl5gxe4C"
   },
   "source": [
    "### Imports and libraries"
   ]
  },
  {
   "cell_type": "code",
   "execution_count": 11,
   "metadata": {
    "colab": {},
    "colab_type": "code",
    "id": "W5F46tW_xe4F"
   },
   "outputs": [],
   "source": [
    "import pandas as pd"
   ]
  },
  {
   "cell_type": "markdown",
   "metadata": {
    "colab_type": "text",
    "id": "jxCq7_Cixe4b"
   },
   "source": [
    "### Global Constants"
   ]
  },
  {
   "cell_type": "code",
   "execution_count": 12,
   "metadata": {
    "colab": {},
    "colab_type": "code",
    "id": "FVDph9tYxe4e"
   },
   "outputs": [],
   "source": [
    "# base url to google drive direct download links\n",
    "google_drive_baseurl = 'https://drive.google.com/uc?export=download&id='\n",
    "\n",
    "# path to local folder of datasets\n",
    "path_local = '../csv/'"
   ]
  },
  {
   "cell_type": "markdown",
   "metadata": {
    "colab_type": "text",
    "id": "odLiSFKgxe4o"
   },
   "source": [
    "### Functions"
   ]
  },
  {
   "cell_type": "markdown",
   "metadata": {
    "colab_type": "text",
    "id": "51DWyQ9f0aQ5"
   },
   "source": [
    "This function reads a csv dataset via **pandas** from both local and remote sources.\n",
    "\n",
    "The input is a dictionary containing the following keys:\n",
    "\n",
    "* `filename`\n",
    "* `src_remote`\n",
    "* `src_local`\n",
    "\n",
    "Other keys may exists in the dictionary, but will not be used in thes function."
   ]
  },
  {
   "cell_type": "code",
   "execution_count": 13,
   "metadata": {
    "colab": {},
    "colab_type": "code",
    "id": "-mTZgsTuxe4s"
   },
   "outputs": [],
   "source": [
    "# funciton to read a dataset from local or remote\n",
    "def read_csv_master(src, verbose=False):\n",
    "  \n",
    "  # this result arises when running on Colab with file uploaded to virtual machine\n",
    "  try:\n",
    "    return pd.read_csv( src['filename'] )\n",
    "  except:\n",
    "    if verbose:\n",
    "      print('fail to read from filename')\n",
    "    pass\n",
    "  \n",
    "  # this result arises when running on Jupyter\n",
    "  try:\n",
    "    return pd.read_csv( src['src_local'] )\n",
    "  except:\n",
    "    if verbose:\n",
    "      print('fail to read from src_local')\n",
    "    pass\n",
    "  \n",
    "  # this result arises when running on Colab without file uploaded to virtual machine\n",
    "  try:\n",
    "    return pd.read_csv( src['src_remote'] )\n",
    "  except:\n",
    "    if verbose:\n",
    "      print('fail to read from src_remote')\n",
    "    return None"
   ]
  },
  {
   "cell_type": "markdown",
   "metadata": {
    "colab_type": "text",
    "id": "36Bg5bcTZDUm"
   },
   "source": [
    "This function performs a basic analisis of a dataframe based on value counts.\n",
    "\n",
    "We can specify the columns to be analyzed or let all them by default.\n",
    "\n",
    "We can also specify some printing parameters."
   ]
  },
  {
   "cell_type": "code",
   "execution_count": 14,
   "metadata": {
    "colab": {},
    "colab_type": "code",
    "id": "8gPJ0OwebrkM"
   },
   "outputs": [],
   "source": [
    "# function to verify value counts of a dataframe\n",
    "def check_value_counts(df, cols=[], values_limit=50, print_size=15):\n",
    "  \n",
    "  # use all columns of the dataframe if not specified\n",
    "  if len(cols) == 0:\n",
    "    cols = df.columns.tolist()\n",
    "\n",
    "  # checking counts for each column\n",
    "  for col in cols:\n",
    "    \n",
    "    # value counts for current column\n",
    "    counts = df[col].value_counts(dropna=False, ascending=True)\n",
    "    \n",
    "    # length of value counts\n",
    "    length = counts.size\n",
    "    \n",
    "    # count of null values\n",
    "    nulls = df[col].isnull().sum()\n",
    "    \n",
    "    # header to be printed\n",
    "    header = 'Column [' + col + ']'\n",
    "    \n",
    "    # formatting the output\n",
    "    if length > values_limit:\n",
    "      \n",
    "      # limiting counts output\n",
    "      counts = counts.head(print_size)\n",
    "      \n",
    "      # printing extra information\n",
    "      header += '\\n' + str(length) + ' unique values'\n",
    "      header += '\\n' + str(nulls) + ' NaN values'\n",
    "      \n",
    "    # printing null values count'\n",
    "    header += '\\n'  \n",
    "    \n",
    "    print('>>>>>>>>>>>>>>>>>>>>>>>>>>>>>>>>>>>>>>>>>>>>>>>>>>>')\n",
    "    print(header)\n",
    "    print(counts)\n",
    "    print('<<<<<<<<<<<<<<<<<<<<<<<<<<<<<<<<<<<<<<<<<<<<<<<<<<<')\n",
    "    print('')"
   ]
  },
  {
   "cell_type": "markdown",
   "metadata": {
    "colab_type": "text",
    "id": "mL5GEKQTxoZ0"
   },
   "source": [
    "# Tests"
   ]
  },
  {
   "cell_type": "markdown",
   "metadata": {
    "colab_type": "text",
    "id": "vMe2yDid51zu"
   },
   "source": [
    "### Creating Datasets Dictionaries"
   ]
  },
  {
   "cell_type": "code",
   "execution_count": 15,
   "metadata": {
    "colab": {},
    "colab_type": "code",
    "id": "VDyZ1kq6xtwe"
   },
   "outputs": [],
   "source": [
    "# list with all filenames\n",
    "filename_list = [\n",
    "\t'estupro-por-capital.csv',\n",
    "\t'estupros-por-uf.csv',\n",
    "\t'homicidios-por-capital.csv',\n",
    "\t'homicidios-por-uf.csv',\n",
    "\t'homi-feminicidios-por-uf',\n",
    "\t'lesao-corporal-por-uf.csv'\n",
    "]\n",
    "\n",
    "# list with IDs from google drive links\n",
    "fileid_list = [\n",
    "\t'1iMD4rjCHTcNG9XrrMy6HoCqN0-f9e8YD',\n",
    "\t'17vEfD2XIn7LFZV5NGgEdSqJrxXGwDdqZ',\n",
    "\t'1unci2LT7_94SOXBHtoWsYZZs72N-NfDg',\n",
    "\t'1eLwfW8ONzRQ6KKM_m_mjbvUP-bsCuAFk',\n",
    "\t'1U12Q3pL4R3nHPbB_1mDU-rex1uPUER_c',\n",
    "\t'1igMkgjuYIDTzslsiztYIWnIvuyeVpb6b'\n",
    "]\n",
    "\n",
    "# creating the files source dictionary\n",
    "files_dict = dict(zip(filename_list, fileid_list))\n",
    "\n",
    "# initializing and empty datasets dicitonary\n",
    "datasets = {}\n",
    "\n",
    "# populating the datasets dicitonary with inner dictionaries\n",
    "for filename, driveid in files_dict.items():\n",
    "  \n",
    "  # name for key of inner dictionary\n",
    "  innerkey = filename.replace('.csv', '')\n",
    "  \n",
    "  # creating and appending the inner dictionary\n",
    "  datasets[innerkey] = { \n",
    "      'filename' : filename, \n",
    "      'driveid' : driveid,\n",
    "      'path' : path_local,\n",
    "      'src_remote' : google_drive_baseurl + driveid,\n",
    "      'src_local' : path_local + filename\n",
    "  }"
   ]
  },
  {
   "cell_type": "code",
   "execution_count": 16,
   "metadata": {
    "colab": {
     "base_uri": "https://localhost:8080/",
     "height": 553
    },
    "colab_type": "code",
    "executionInfo": {
     "elapsed": 959,
     "status": "ok",
     "timestamp": 1558379133749,
     "user": {
      "displayName": "MARCOS JUNIOR",
      "photoUrl": "",
      "userId": "02126454598504023629"
     },
     "user_tz": 180
    },
    "id": "KF7KVsMB3wQK",
    "outputId": "065b2e95-a035-426f-c237-427fba4dbe06"
   },
   "outputs": [
    {
     "data": {
      "text/plain": [
       "{'estupro-por-capital': {'driveid': '1iMD4rjCHTcNG9XrrMy6HoCqN0-f9e8YD',\n",
       "  'filename': 'estupro-por-capital.csv',\n",
       "  'path': '../csv/',\n",
       "  'src_local': '../csv/estupro-por-capital.csv',\n",
       "  'src_remote': 'https://drive.google.com/uc?export=download&id=1iMD4rjCHTcNG9XrrMy6HoCqN0-f9e8YD'},\n",
       " 'estupros-por-uf': {'driveid': '17vEfD2XIn7LFZV5NGgEdSqJrxXGwDdqZ',\n",
       "  'filename': 'estupros-por-uf.csv',\n",
       "  'path': '../csv/',\n",
       "  'src_local': '../csv/estupros-por-uf.csv',\n",
       "  'src_remote': 'https://drive.google.com/uc?export=download&id=17vEfD2XIn7LFZV5NGgEdSqJrxXGwDdqZ'},\n",
       " 'homi-feminicidios-por-uf': {'driveid': '1U12Q3pL4R3nHPbB_1mDU-rex1uPUER_c',\n",
       "  'filename': 'homi-feminicidios-por-uf',\n",
       "  'path': '../csv/',\n",
       "  'src_local': '../csv/homi-feminicidios-por-uf',\n",
       "  'src_remote': 'https://drive.google.com/uc?export=download&id=1U12Q3pL4R3nHPbB_1mDU-rex1uPUER_c'},\n",
       " 'homicidios-por-capital': {'driveid': '1unci2LT7_94SOXBHtoWsYZZs72N-NfDg',\n",
       "  'filename': 'homicidios-por-capital.csv',\n",
       "  'path': '../csv/',\n",
       "  'src_local': '../csv/homicidios-por-capital.csv',\n",
       "  'src_remote': 'https://drive.google.com/uc?export=download&id=1unci2LT7_94SOXBHtoWsYZZs72N-NfDg'},\n",
       " 'homicidios-por-uf': {'driveid': '1eLwfW8ONzRQ6KKM_m_mjbvUP-bsCuAFk',\n",
       "  'filename': 'homicidios-por-uf.csv',\n",
       "  'path': '../csv/',\n",
       "  'src_local': '../csv/homicidios-por-uf.csv',\n",
       "  'src_remote': 'https://drive.google.com/uc?export=download&id=1eLwfW8ONzRQ6KKM_m_mjbvUP-bsCuAFk'},\n",
       " 'lesao-corporal-por-uf': {'driveid': '1igMkgjuYIDTzslsiztYIWnIvuyeVpb6b',\n",
       "  'filename': 'lesao-corporal-por-uf.csv',\n",
       "  'path': '../csv/',\n",
       "  'src_local': '../csv/lesao-corporal-por-uf.csv',\n",
       "  'src_remote': 'https://drive.google.com/uc?export=download&id=1igMkgjuYIDTzslsiztYIWnIvuyeVpb6b'}}"
      ]
     },
     "execution_count": 16,
     "metadata": {},
     "output_type": "execute_result"
    }
   ],
   "source": [
    "# checking the result\n",
    "datasets"
   ]
  },
  {
   "cell_type": "code",
   "execution_count": 17,
   "metadata": {
    "colab": {
     "base_uri": "https://localhost:8080/",
     "height": 106
    },
    "colab_type": "code",
    "executionInfo": {
     "elapsed": 915,
     "status": "ok",
     "timestamp": 1558379133753,
     "user": {
      "displayName": "MARCOS JUNIOR",
      "photoUrl": "",
      "userId": "02126454598504023629"
     },
     "user_tz": 180
    },
    "id": "BU20Tps76Uhw",
    "outputId": "bd84a3ba-f86a-403b-b68d-8d6a08c09b44"
   },
   "outputs": [
    {
     "data": {
      "text/plain": [
       "{'driveid': '1eLwfW8ONzRQ6KKM_m_mjbvUP-bsCuAFk',\n",
       " 'filename': 'homicidios-por-uf.csv',\n",
       " 'path': '../csv/',\n",
       " 'src_local': '../csv/homicidios-por-uf.csv',\n",
       " 'src_remote': 'https://drive.google.com/uc?export=download&id=1eLwfW8ONzRQ6KKM_m_mjbvUP-bsCuAFk'}"
      ]
     },
     "execution_count": 17,
     "metadata": {},
     "output_type": "execute_result"
    }
   ],
   "source": [
    "# checking the result\n",
    "datasets['homicidios-por-uf']"
   ]
  },
  {
   "cell_type": "markdown",
   "metadata": {
    "colab_type": "text",
    "id": "qcKhw9fO7QQm"
   },
   "source": [
    "### Reading Datasets"
   ]
  },
  {
   "cell_type": "code",
   "execution_count": 18,
   "metadata": {
    "colab": {
     "base_uri": "https://localhost:8080/",
     "height": 363
    },
    "colab_type": "code",
    "executionInfo": {
     "elapsed": 892,
     "status": "ok",
     "timestamp": 1558379133758,
     "user": {
      "displayName": "MARCOS JUNIOR",
      "photoUrl": "",
      "userId": "02126454598504023629"
     },
     "user_tz": 180
    },
    "id": "tMt2j5FV3gSS",
    "outputId": "5ab5b1b9-36df-4b0e-88db-eb899880bddf"
   },
   "outputs": [
    {
     "data": {
      "text/html": [
       "<div>\n",
       "<style scoped>\n",
       "    .dataframe tbody tr th:only-of-type {\n",
       "        vertical-align: middle;\n",
       "    }\n",
       "\n",
       "    .dataframe tbody tr th {\n",
       "        vertical-align: top;\n",
       "    }\n",
       "\n",
       "    .dataframe thead th {\n",
       "        text-align: right;\n",
       "    }\n",
       "</style>\n",
       "<table border=\"1\" class=\"dataframe\">\n",
       "  <thead>\n",
       "    <tr style=\"text-align: right;\">\n",
       "      <th></th>\n",
       "      <th>unidade_federativa</th>\n",
       "      <th>grandeza</th>\n",
       "      <th>medida</th>\n",
       "      <th>2016</th>\n",
       "      <th>2017</th>\n",
       "    </tr>\n",
       "  </thead>\n",
       "  <tbody>\n",
       "    <tr>\n",
       "      <th>6</th>\n",
       "      <td>Ceará</td>\n",
       "      <td>Estupro</td>\n",
       "      <td>Ns. Absolutos</td>\n",
       "      <td>1.670,00</td>\n",
       "      <td>1.755,00</td>\n",
       "    </tr>\n",
       "    <tr>\n",
       "      <th>67</th>\n",
       "      <td>Mato Grosso</td>\n",
       "      <td>Tentativa de Estupro</td>\n",
       "      <td>Ns. Absolutos</td>\n",
       "      <td>163,00</td>\n",
       "      <td>192,00</td>\n",
       "    </tr>\n",
       "    <tr>\n",
       "      <th>82</th>\n",
       "      <td>Sergipe (5)</td>\n",
       "      <td>Tentativa de Estupro</td>\n",
       "      <td>Ns. Absolutos</td>\n",
       "      <td>45,00</td>\n",
       "      <td>41,00</td>\n",
       "    </tr>\n",
       "    <tr>\n",
       "      <th>87</th>\n",
       "      <td>Amapá</td>\n",
       "      <td>Tentativa de Estupro</td>\n",
       "      <td>Taxas</td>\n",
       "      <td>4,34618654088292</td>\n",
       "      <td>2,63249603245241</td>\n",
       "    </tr>\n",
       "    <tr>\n",
       "      <th>5</th>\n",
       "      <td>Bahia</td>\n",
       "      <td>Estupro</td>\n",
       "      <td>Ns. Absolutos</td>\n",
       "      <td>2.845,00</td>\n",
       "      <td>3.270,00</td>\n",
       "    </tr>\n",
       "    <tr>\n",
       "      <th>9</th>\n",
       "      <td>Goiás (5)</td>\n",
       "      <td>Estupro</td>\n",
       "      <td>Ns. Absolutos</td>\n",
       "      <td>2.313,00</td>\n",
       "      <td>2.495,00</td>\n",
       "    </tr>\n",
       "    <tr>\n",
       "      <th>16</th>\n",
       "      <td>Paraná</td>\n",
       "      <td>Estupro</td>\n",
       "      <td>Ns. Absolutos</td>\n",
       "      <td>4.595,00</td>\n",
       "      <td>5.966,00</td>\n",
       "    </tr>\n",
       "    <tr>\n",
       "      <th>2</th>\n",
       "      <td>Alagoas</td>\n",
       "      <td>Estupro</td>\n",
       "      <td>Ns. Absolutos</td>\n",
       "      <td>1.278,00</td>\n",
       "      <td>1.485,00</td>\n",
       "    </tr>\n",
       "    <tr>\n",
       "      <th>7</th>\n",
       "      <td>Distrito Federal</td>\n",
       "      <td>Estupro</td>\n",
       "      <td>Ns. Absolutos</td>\n",
       "      <td>803,00</td>\n",
       "      <td>1.039,00</td>\n",
       "    </tr>\n",
       "    <tr>\n",
       "      <th>38</th>\n",
       "      <td>Maranhão</td>\n",
       "      <td>Estupro</td>\n",
       "      <td>Taxas</td>\n",
       "      <td>13,733032155715</td>\n",
       "      <td>17,1280110979227</td>\n",
       "    </tr>\n",
       "  </tbody>\n",
       "</table>\n",
       "</div>"
      ],
      "text/plain": [
       "   unidade_federativa              grandeza         medida              2016  \\\n",
       "6               Ceará               Estupro  Ns. Absolutos         1.670,00    \n",
       "67        Mato Grosso  Tentativa de Estupro  Ns. Absolutos           163,00    \n",
       "82        Sergipe (5)  Tentativa de Estupro  Ns. Absolutos            45,00    \n",
       "87              Amapá  Tentativa de Estupro          Taxas  4,34618654088292   \n",
       "5               Bahia               Estupro  Ns. Absolutos         2.845,00    \n",
       "9           Goiás (5)               Estupro  Ns. Absolutos         2.313,00    \n",
       "16             Paraná               Estupro  Ns. Absolutos         4.595,00    \n",
       "2             Alagoas               Estupro  Ns. Absolutos         1.278,00    \n",
       "7    Distrito Federal               Estupro  Ns. Absolutos           803,00    \n",
       "38           Maranhão               Estupro          Taxas   13,733032155715   \n",
       "\n",
       "                2017  \n",
       "6          1.755,00   \n",
       "67           192,00   \n",
       "82            41,00   \n",
       "87  2,63249603245241  \n",
       "5          3.270,00   \n",
       "9          2.495,00   \n",
       "16         5.966,00   \n",
       "2          1.485,00   \n",
       "7          1.039,00   \n",
       "38  17,1280110979227  "
      ]
     },
     "execution_count": 18,
     "metadata": {},
     "output_type": "execute_result"
    }
   ],
   "source": [
    "# testing in non-verbose mode\n",
    "\n",
    "src = datasets['estupros-por-uf']\n",
    "\n",
    "read_csv_master(src).sample(10)"
   ]
  },
  {
   "cell_type": "code",
   "execution_count": 19,
   "metadata": {
    "colab": {
     "base_uri": "https://localhost:8080/",
     "height": 399
    },
    "colab_type": "code",
    "executionInfo": {
     "elapsed": 1350,
     "status": "ok",
     "timestamp": 1558379134244,
     "user": {
      "displayName": "MARCOS JUNIOR",
      "photoUrl": "",
      "userId": "02126454598504023629"
     },
     "user_tz": 180
    },
    "id": "5ZDX_Yp85dsb",
    "outputId": "b10c06bb-311b-4241-a9ff-737a6ba0fab0"
   },
   "outputs": [
    {
     "name": "stdout",
     "output_type": "stream",
     "text": [
      "fail to read from filename\n"
     ]
    },
    {
     "data": {
      "text/html": [
       "<div>\n",
       "<style scoped>\n",
       "    .dataframe tbody tr th:only-of-type {\n",
       "        vertical-align: middle;\n",
       "    }\n",
       "\n",
       "    .dataframe tbody tr th {\n",
       "        vertical-align: top;\n",
       "    }\n",
       "\n",
       "    .dataframe thead th {\n",
       "        text-align: right;\n",
       "    }\n",
       "</style>\n",
       "<table border=\"1\" class=\"dataframe\">\n",
       "  <thead>\n",
       "    <tr style=\"text-align: right;\">\n",
       "      <th></th>\n",
       "      <th>un_federativa</th>\n",
       "      <th>capital</th>\n",
       "      <th>grandeza</th>\n",
       "      <th>medida</th>\n",
       "      <th>2016</th>\n",
       "      <th>2017</th>\n",
       "    </tr>\n",
       "  </thead>\n",
       "  <tbody>\n",
       "    <tr>\n",
       "      <th>50</th>\n",
       "      <td>RO</td>\n",
       "      <td>Porto Velho</td>\n",
       "      <td>Estupro</td>\n",
       "      <td>Taxas (2)</td>\n",
       "      <td>74,7233573087072</td>\n",
       "      <td>66,6107085377217</td>\n",
       "    </tr>\n",
       "    <tr>\n",
       "      <th>46</th>\n",
       "      <td>PI</td>\n",
       "      <td>Teresina</td>\n",
       "      <td>Estupro</td>\n",
       "      <td>Taxas (2)</td>\n",
       "      <td>26,6688694051426</td>\n",
       "      <td>30,110633052536</td>\n",
       "    </tr>\n",
       "    <tr>\n",
       "      <th>24</th>\n",
       "      <td>SC</td>\n",
       "      <td>Florianópolis</td>\n",
       "      <td>Estupro</td>\n",
       "      <td>Ns. Abs.</td>\n",
       "      <td>195</td>\n",
       "      <td>222</td>\n",
       "    </tr>\n",
       "    <tr>\n",
       "      <th>41</th>\n",
       "      <td>MG</td>\n",
       "      <td>Belo Horizonte</td>\n",
       "      <td>Estupro</td>\n",
       "      <td>Taxas (2)</td>\n",
       "      <td>22,5984115067292</td>\n",
       "      <td>24,4473201854034</td>\n",
       "    </tr>\n",
       "    <tr>\n",
       "      <th>52</th>\n",
       "      <td>SC</td>\n",
       "      <td>Florianópolis</td>\n",
       "      <td>Estupro</td>\n",
       "      <td>Taxas (2)</td>\n",
       "      <td>40,8122260871749</td>\n",
       "      <td>45,6942437602658</td>\n",
       "    </tr>\n",
       "    <tr>\n",
       "      <th>9</th>\n",
       "      <td>GO</td>\n",
       "      <td>Goiânia</td>\n",
       "      <td>Estupro</td>\n",
       "      <td>Ns. Abs.</td>\n",
       "      <td>161</td>\n",
       "      <td>121</td>\n",
       "    </tr>\n",
       "    <tr>\n",
       "      <th>37</th>\n",
       "      <td>GO</td>\n",
       "      <td>Goiânia</td>\n",
       "      <td>Estupro</td>\n",
       "      <td>Taxas (2)</td>\n",
       "      <td>11,1138799935664</td>\n",
       "      <td>8,25316058536053</td>\n",
       "    </tr>\n",
       "    <tr>\n",
       "      <th>51</th>\n",
       "      <td>RR</td>\n",
       "      <td>Boa Vista</td>\n",
       "      <td>Estupro</td>\n",
       "      <td>Taxas (2)</td>\n",
       "      <td>...</td>\n",
       "      <td>...</td>\n",
       "    </tr>\n",
       "    <tr>\n",
       "      <th>44</th>\n",
       "      <td>PR</td>\n",
       "      <td>Curitiba</td>\n",
       "      <td>Estupro</td>\n",
       "      <td>Taxas (2)</td>\n",
       "      <td>30,095084627906</td>\n",
       "      <td>34,5322866399876</td>\n",
       "    </tr>\n",
       "    <tr>\n",
       "      <th>2</th>\n",
       "      <td>AL</td>\n",
       "      <td>Maceió</td>\n",
       "      <td>Estupro</td>\n",
       "      <td>Ns. Abs.</td>\n",
       "      <td>155</td>\n",
       "      <td>179</td>\n",
       "    </tr>\n",
       "  </tbody>\n",
       "</table>\n",
       "</div>"
      ],
      "text/plain": [
       "   un_federativa         capital grandeza     medida              2016  \\\n",
       "50            RO     Porto Velho  Estupro  Taxas (2)  74,7233573087072   \n",
       "46            PI        Teresina  Estupro  Taxas (2)  26,6688694051426   \n",
       "24            SC   Florianópolis  Estupro   Ns. Abs.               195   \n",
       "41            MG  Belo Horizonte  Estupro  Taxas (2)  22,5984115067292   \n",
       "52            SC   Florianópolis  Estupro  Taxas (2)  40,8122260871749   \n",
       "9             GO         Goiânia  Estupro   Ns. Abs.               161   \n",
       "37            GO         Goiânia  Estupro  Taxas (2)  11,1138799935664   \n",
       "51            RR       Boa Vista  Estupro  Taxas (2)               ...   \n",
       "44            PR        Curitiba  Estupro  Taxas (2)   30,095084627906   \n",
       "2             AL          Maceió  Estupro   Ns. Abs.               155   \n",
       "\n",
       "                2017  \n",
       "50  66,6107085377217  \n",
       "46   30,110633052536  \n",
       "24               222  \n",
       "41  24,4473201854034  \n",
       "52  45,6942437602658  \n",
       "9                121  \n",
       "37  8,25316058536053  \n",
       "51               ...  \n",
       "44  34,5322866399876  \n",
       "2                179  "
      ]
     },
     "execution_count": 19,
     "metadata": {},
     "output_type": "execute_result"
    }
   ],
   "source": [
    "# testing in verbose mode\n",
    "\n",
    "src = datasets['estupro-por-capital']\n",
    "\n",
    "read_csv_master(src, True).sample(10)"
   ]
  },
  {
   "cell_type": "markdown",
   "metadata": {
    "colab_type": "text",
    "id": "Dgnuk98Xf4TQ"
   },
   "source": [
    "### Checking Value Counts"
   ]
  },
  {
   "cell_type": "code",
   "execution_count": 20,
   "metadata": {
    "colab": {
     "base_uri": "https://localhost:8080/",
     "height": 1268
    },
    "colab_type": "code",
    "executionInfo": {
     "elapsed": 1763,
     "status": "ok",
     "timestamp": 1558379134694,
     "user": {
      "displayName": "MARCOS JUNIOR",
      "photoUrl": "",
      "userId": "02126454598504023629"
     },
     "user_tz": 180
    },
    "id": "ciKy1Gyh-B7q",
    "outputId": "de89940e-733f-4325-f9ca-b8efe3b08689"
   },
   "outputs": [
    {
     "name": "stdout",
     "output_type": "stream",
     "text": [
      ">>>>>>>>>>>>>>>>>>>>>>>>>>>>>>>>>>>>>>>>>>>>>>>>>>>\n",
      "Column [un_federativa]\n",
      "28 unique values\n",
      "0 NaN values\n",
      "\n",
      "Alagoas (4)            4\n",
      "Pernambuco             4\n",
      "Amapá                  4\n",
      "Tocantins              4\n",
      "Mato Grosso (4)        4\n",
      "Amazonas               4\n",
      "Rio Grande do Norte    4\n",
      "Paraíba                4\n",
      "Paraná                 4\n",
      "Sergipe                4\n",
      "Name: un_federativa, dtype: int64\n",
      "<<<<<<<<<<<<<<<<<<<<<<<<<<<<<<<<<<<<<<<<<<<<<<<<<<<\n",
      "\n",
      ">>>>>>>>>>>>>>>>>>>>>>>>>>>>>>>>>>>>>>>>>>>>>>>>>>>\n",
      "Column [grandeza]\n",
      "\n",
      "Homicidios (2)    56\n",
      "Feminicídios      56\n",
      "Name: grandeza, dtype: int64\n",
      "<<<<<<<<<<<<<<<<<<<<<<<<<<<<<<<<<<<<<<<<<<<<<<<<<<<\n",
      "\n",
      ">>>>>>>>>>>>>>>>>>>>>>>>>>>>>>>>>>>>>>>>>>>>>>>>>>>\n",
      "Column [medida]\n",
      "\n",
      "Ns. Absolutos    56\n",
      "Taxas            56\n",
      "Name: medida, dtype: int64\n",
      "<<<<<<<<<<<<<<<<<<<<<<<<<<<<<<<<<<<<<<<<<<<<<<<<<<<\n",
      "\n",
      ">>>>>>>>>>>>>>>>>>>>>>>>>>>>>>>>>>>>>>>>>>>>>>>>>>>\n",
      "Column [2016]\n",
      "99 unique values\n",
      "0 NaN values\n",
      "\n",
      "60                   1\n",
      "3,34309143525545     1\n",
      "6,422813834741       1\n",
      "4,22212002916686     1\n",
      "0,232775938416798    1\n",
      "37                   1\n",
      "3,43209523862399     1\n",
      "4,9721808989904      1\n",
      "51                   1\n",
      "1,19672098450246     1\n",
      "Name: 2016, dtype: int64\n",
      "<<<<<<<<<<<<<<<<<<<<<<<<<<<<<<<<<<<<<<<<<<<<<<<<<<<\n",
      "\n",
      ">>>>>>>>>>>>>>>>>>>>>>>>>>>>>>>>>>>>>>>>>>>>>>>>>>>\n",
      "Column [2017]\n",
      "108 unique values\n",
      "0 NaN values\n",
      "\n",
      "6,20613224972294    1\n",
      "3,15992630079582    1\n",
      " 474,00             1\n",
      "2                   1\n",
      " 351,00             1\n",
      "1,07710211617293    1\n",
      "32                  1\n",
      "83                  1\n",
      "4,18227942070202    1\n",
      "7,44959670592378    1\n",
      "Name: 2017, dtype: int64\n",
      "<<<<<<<<<<<<<<<<<<<<<<<<<<<<<<<<<<<<<<<<<<<<<<<<<<<\n",
      "\n"
     ]
    }
   ],
   "source": [
    "src = datasets['homi-feminicidios-por-uf']\n",
    "\n",
    "df = read_csv_master(src)\n",
    "\n",
    "check_value_counts( df, values_limit=20, print_size=10 )"
   ]
  }
 ],
 "metadata": {
  "colab": {
   "collapsed_sections": [
    "-HJK_DjUxe38"
   ],
   "name": "2019-05-20-macj-preparation.ipynb",
   "provenance": [],
   "toc_visible": true,
   "version": "0.3.2"
  },
  "kernelspec": {
   "display_name": "Python 3",
   "language": "python",
   "name": "python3"
  },
  "language_info": {
   "codemirror_mode": {
    "name": "ipython",
    "version": 3
   },
   "file_extension": ".py",
   "mimetype": "text/x-python",
   "name": "python",
   "nbconvert_exporter": "python",
   "pygments_lexer": "ipython3",
   "version": "3.5.2"
  }
 },
 "nbformat": 4,
 "nbformat_minor": 1
}

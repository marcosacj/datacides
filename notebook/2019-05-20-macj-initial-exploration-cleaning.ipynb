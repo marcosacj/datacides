{
 "cells": [
  {
   "cell_type": "markdown",
   "metadata": {
    "colab_type": "text",
    "id": "-HJK_DjUxe38"
   },
   "source": [
    "# Preparation"
   ]
  },
  {
   "cell_type": "markdown",
   "metadata": {
    "colab_type": "text",
    "id": "gHUXTl5gxe4C"
   },
   "source": [
    "### Imports and libraries"
   ]
  },
  {
   "cell_type": "code",
   "execution_count": 1,
   "metadata": {
    "colab": {},
    "colab_type": "code",
    "id": "W5F46tW_xe4F"
   },
   "outputs": [],
   "source": [
    "import pandas as pd\n",
    "import numpy as np"
   ]
  },
  {
   "cell_type": "markdown",
   "metadata": {
    "colab_type": "text",
    "id": "jxCq7_Cixe4b"
   },
   "source": [
    "### Global Constants"
   ]
  },
  {
   "cell_type": "code",
   "execution_count": 2,
   "metadata": {
    "colab": {},
    "colab_type": "code",
    "id": "FVDph9tYxe4e"
   },
   "outputs": [],
   "source": [
    "# base url to google drive direct download links\n",
    "google_drive_baseurl = 'https://drive.google.com/uc?export=download&id='\n",
    "\n",
    "# path to local folder of datasets\n",
    "path_local = './csv/'"
   ]
  },
  {
   "cell_type": "markdown",
   "metadata": {
    "colab_type": "text",
    "id": "odLiSFKgxe4o"
   },
   "source": [
    "### Functions"
   ]
  },
  {
   "cell_type": "code",
   "execution_count": 3,
   "metadata": {
    "colab": {},
    "colab_type": "code",
    "id": "-mTZgsTuxe4s"
   },
   "outputs": [],
   "source": [
    "# funciton to read a dataset from local or remote\n",
    "def read_csv_master(src, verbose=False):\n",
    "  \n",
    "  # this result arises when running on Colab with file uploaded to virtual machine\n",
    "  try:\n",
    "    return pd.read_csv( src['filename'] )\n",
    "  except:\n",
    "    if verbose:\n",
    "      print('fail to read from filename')\n",
    "    pass\n",
    "  \n",
    "  # this result arises when running on Jupyter\n",
    "  try:\n",
    "    return pd.read_csv( src['src_local'] )\n",
    "  except:\n",
    "    if verbose:\n",
    "      print('fail to read from src_local')\n",
    "    pass\n",
    "  \n",
    "  # this result arises when running on Colab without file uploaded to virtual machine\n",
    "  try:\n",
    "    return pd.read_csv( src['src_remote'] )\n",
    "  except:\n",
    "    if verbose:\n",
    "      print('fail to read from src_remote')\n",
    "    return None"
   ]
  },
  {
   "cell_type": "code",
   "execution_count": 4,
   "metadata": {
    "colab": {},
    "colab_type": "code",
    "id": "8gPJ0OwebrkM"
   },
   "outputs": [],
   "source": [
    "# function to verify value counts of a dataframe\n",
    "def check_value_counts(df, cols=[], values_limit=50, print_size=15):\n",
    "  \n",
    "  # use all columns of the dataframe if not specified\n",
    "  if len(cols) == 0:\n",
    "    cols = df.columns.tolist()\n",
    "\n",
    "  # checking counts for each column\n",
    "  for col in cols:\n",
    "    \n",
    "    # value counts for current column\n",
    "    counts = df[col].value_counts(dropna=False, ascending=True)\n",
    "    \n",
    "    # length of value counts\n",
    "    length = counts.size\n",
    "    \n",
    "    # count of null values\n",
    "    nulls = df[col].isnull().sum()\n",
    "    \n",
    "    # header to be printed\n",
    "    header = 'Column [' + col + ']'\n",
    "    \n",
    "    # formatting the output\n",
    "    if length > values_limit:\n",
    "      \n",
    "      # limiting counts output\n",
    "      counts = counts.head(print_size)\n",
    "      \n",
    "      # printing extra information\n",
    "      header += '\\n' + str(length) + ' unique values'\n",
    "      header += '\\n' + str(nulls) + ' NaN values'\n",
    "      \n",
    "    # printing null values count'\n",
    "    header += '\\n'  \n",
    "    \n",
    "    print('>>>>>>>>>>>>>>>>>>>>>>>>>>>>>>>>>>>>>>>>>>>>>>>>>>>')\n",
    "    print(header)\n",
    "    print(counts)\n",
    "    print('<<<<<<<<<<<<<<<<<<<<<<<<<<<<<<<<<<<<<<<<<<<<<<<<<<<')\n",
    "    print('')"
   ]
  },
  {
   "cell_type": "markdown",
   "metadata": {
    "colab_type": "text",
    "id": "vMe2yDid51zu"
   },
   "source": [
    "### Creating Datasets Dictionaries"
   ]
  },
  {
   "cell_type": "code",
   "execution_count": 5,
   "metadata": {
    "colab": {},
    "colab_type": "code",
    "id": "VDyZ1kq6xtwe"
   },
   "outputs": [],
   "source": [
    "# list with all filenames\n",
    "filename_list = [\n",
    "\t'estupro-por-capital.csv',\n",
    "\t'estupros-por-uf.csv',\n",
    "\t'homicidios-por-capital.csv',\n",
    "\t'homicidios-por-uf.csv',\n",
    "\t'homi-feminicidios-por-uf',\n",
    "\t'lesao-corporal-por-uf.csv'\n",
    "]\n",
    "\n",
    "# list with IDs from google drive links\n",
    "fileid_list = [\n",
    "\t'1iMD4rjCHTcNG9XrrMy6HoCqN0-f9e8YD',\n",
    "\t'17vEfD2XIn7LFZV5NGgEdSqJrxXGwDdqZ',\n",
    "\t'1unci2LT7_94SOXBHtoWsYZZs72N-NfDg',\n",
    "\t'1eLwfW8ONzRQ6KKM_m_mjbvUP-bsCuAFk',\n",
    "\t'1U12Q3pL4R3nHPbB_1mDU-rex1uPUER_c',\n",
    "\t'1igMkgjuYIDTzslsiztYIWnIvuyeVpb6b'\n",
    "]\n",
    "\n",
    "# creating the files source dictionary\n",
    "files_dict = dict(zip(filename_list, fileid_list))\n",
    "\n",
    "# initializing and empty datasets dicitonary\n",
    "datasets = {}\n",
    "\n",
    "# populating the datasets dicitonary with inner dictionaries\n",
    "for filename, driveid in files_dict.items():\n",
    "  \n",
    "  # name for key of inner dictionary\n",
    "  innerkey = filename.replace('.csv', '')\n",
    "  \n",
    "  # creating and appending the inner dictionary\n",
    "  datasets[innerkey] = { \n",
    "      'filename' : filename, \n",
    "      'driveid' : driveid,\n",
    "      'path' : path_local,\n",
    "      'src_remote' : google_drive_baseurl + driveid,\n",
    "      'src_local' : path_local + filename\n",
    "  }"
   ]
  },
  {
   "cell_type": "markdown",
   "metadata": {
    "colab_type": "text",
    "id": "LSF79rqJ9YMZ"
   },
   "source": [
    "# Initial Cleaning"
   ]
  },
  {
   "cell_type": "markdown",
   "metadata": {
    "colab_type": "text",
    "id": "nu_-T43iKl1N"
   },
   "source": [
    "### Datasets to Work"
   ]
  },
  {
   "cell_type": "code",
   "execution_count": 6,
   "metadata": {
    "colab": {
     "base_uri": "https://localhost:8080/",
     "height": 0
    },
    "colab_type": "code",
    "executionInfo": {
     "elapsed": 1871,
     "status": "ok",
     "timestamp": 1558480572570,
     "user": {
      "displayName": "MARCOS JUNIOR",
      "photoUrl": "",
      "userId": "02126454598504023629"
     },
     "user_tz": 180
    },
    "id": "0hrkwrxD9p1O",
    "outputId": "00a835ee-bab6-476b-fb27-1c2c1e16f13b"
   },
   "outputs": [
    {
     "name": "stdout",
     "output_type": "stream",
     "text": [
      "homicidios-por-uf\n",
      "homicidios-por-capital\n",
      "homi-feminicidios-por-uf\n",
      "lesao-corporal-por-uf\n",
      "estupro-por-capital\n",
      "estupros-por-uf\n"
     ]
    }
   ],
   "source": [
    "# printing the datasets to work with\n",
    "for key in datasets.keys():\n",
    "  print(key)"
   ]
  },
  {
   "cell_type": "markdown",
   "metadata": {
    "colab_type": "text",
    "id": "wsh53KC3-UDw"
   },
   "source": [
    "### Homicides per Federative Unit"
   ]
  },
  {
   "cell_type": "markdown",
   "metadata": {
    "colab_type": "text",
    "id": "Rx-5MoZWIfRI"
   },
   "source": [
    "#### Initial Exploration"
   ]
  },
  {
   "cell_type": "code",
   "execution_count": 7,
   "metadata": {
    "colab": {},
    "colab_type": "code",
    "id": "3fBFMUf2-Xta"
   },
   "outputs": [],
   "source": [
    "# reading the dataset\n",
    "homicides = read_csv_master( datasets['homicidios-por-uf'] )\n",
    "\n",
    "# making a backup of the original dataset\n",
    "homicides_raw = homicides.copy()"
   ]
  },
  {
   "cell_type": "code",
   "execution_count": 8,
   "metadata": {
    "colab": {
     "base_uri": "https://localhost:8080/",
     "height": 363
    },
    "colab_type": "code",
    "executionInfo": {
     "elapsed": 2264,
     "status": "ok",
     "timestamp": 1558480573017,
     "user": {
      "displayName": "MARCOS JUNIOR",
      "photoUrl": "",
      "userId": "02126454598504023629"
     },
     "user_tz": 180
    },
    "id": "HhvdophDCDbU",
    "outputId": "49951fb0-bc7f-4b17-fbd8-416df8cd6723"
   },
   "outputs": [
    {
     "data": {
      "text/html": [
       "<div>\n",
       "<style scoped>\n",
       "    .dataframe tbody tr th:only-of-type {\n",
       "        vertical-align: middle;\n",
       "    }\n",
       "\n",
       "    .dataframe tbody tr th {\n",
       "        vertical-align: top;\n",
       "    }\n",
       "\n",
       "    .dataframe thead th {\n",
       "        text-align: right;\n",
       "    }\n",
       "</style>\n",
       "<table border=\"1\" class=\"dataframe\">\n",
       "  <thead>\n",
       "    <tr style=\"text-align: right;\">\n",
       "      <th></th>\n",
       "      <th>unidade_federativa</th>\n",
       "      <th>grandeza</th>\n",
       "      <th>medida</th>\n",
       "      <th>2016</th>\n",
       "      <th>2017</th>\n",
       "    </tr>\n",
       "  </thead>\n",
       "  <tbody>\n",
       "    <tr>\n",
       "      <th>6</th>\n",
       "      <td>Mato Grosso (4)</td>\n",
       "      <td>Nº de Vítimas</td>\n",
       "      <td>Ns. Absolutos</td>\n",
       "      <td>1086</td>\n",
       "      <td>985</td>\n",
       "    </tr>\n",
       "    <tr>\n",
       "      <th>16</th>\n",
       "      <td>Amazonas</td>\n",
       "      <td>Nº de Vítimas</td>\n",
       "      <td>Ns. Absolutos</td>\n",
       "      <td>1023</td>\n",
       "      <td>1119</td>\n",
       "    </tr>\n",
       "    <tr>\n",
       "      <th>53</th>\n",
       "      <td>Sergipe</td>\n",
       "      <td>Nº de Vítimas</td>\n",
       "      <td>Taxas</td>\n",
       "      <td>57,6402199861505</td>\n",
       "      <td>48,9922713708571</td>\n",
       "    </tr>\n",
       "    <tr>\n",
       "      <th>29</th>\n",
       "      <td>Alagoas</td>\n",
       "      <td>Nº de Vítimas</td>\n",
       "      <td>Taxas</td>\n",
       "      <td>50,4917738004259</td>\n",
       "      <td>50,4469576752099</td>\n",
       "    </tr>\n",
       "    <tr>\n",
       "      <th>104</th>\n",
       "      <td>Paraná</td>\n",
       "      <td>Nº de Ocorrências</td>\n",
       "      <td>Taxas</td>\n",
       "      <td>12,8972348328518</td>\n",
       "      <td>18,3201111714519</td>\n",
       "    </tr>\n",
       "    <tr>\n",
       "      <th>11</th>\n",
       "      <td>Rio de Janeiro</td>\n",
       "      <td>Nº de Vítimas</td>\n",
       "      <td>Ns. Absolutos</td>\n",
       "      <td>5042</td>\n",
       "      <td>5346</td>\n",
       "    </tr>\n",
       "    <tr>\n",
       "      <th>84</th>\n",
       "      <td>Brasil</td>\n",
       "      <td>Nº de Ocorrências</td>\n",
       "      <td>Taxas</td>\n",
       "      <td>22,1873458255084</td>\n",
       "      <td>23,1160479880161</td>\n",
       "    </tr>\n",
       "    <tr>\n",
       "      <th>42</th>\n",
       "      <td>Acre (4)</td>\n",
       "      <td>Nº de Vítimas</td>\n",
       "      <td>Taxas</td>\n",
       "      <td>43,3458595520683</td>\n",
       "      <td>60,5097038520092</td>\n",
       "    </tr>\n",
       "    <tr>\n",
       "      <th>35</th>\n",
       "      <td>Pará</td>\n",
       "      <td>Nº de Vítimas</td>\n",
       "      <td>Taxas</td>\n",
       "      <td>44,1088086584298</td>\n",
       "      <td>45,657581525078</td>\n",
       "    </tr>\n",
       "    <tr>\n",
       "      <th>20</th>\n",
       "      <td>Paraná</td>\n",
       "      <td>Nº de Vítimas</td>\n",
       "      <td>Ns. Absolutos</td>\n",
       "      <td>2498</td>\n",
       "      <td>2187</td>\n",
       "    </tr>\n",
       "  </tbody>\n",
       "</table>\n",
       "</div>"
      ],
      "text/plain": [
       "    unidade_federativa           grandeza         medida              2016  \\\n",
       "6      Mato Grosso (4)     Nº de Vítimas   Ns. Absolutos              1086   \n",
       "16            Amazonas     Nº de Vítimas   Ns. Absolutos              1023   \n",
       "53             Sergipe     Nº de Vítimas           Taxas  57,6402199861505   \n",
       "29             Alagoas     Nº de Vítimas           Taxas  50,4917738004259   \n",
       "104             Paraná  Nº de Ocorrências          Taxas  12,8972348328518   \n",
       "11      Rio de Janeiro     Nº de Vítimas   Ns. Absolutos              5042   \n",
       "84              Brasil  Nº de Ocorrências          Taxas  22,1873458255084   \n",
       "42            Acre (4)     Nº de Vítimas           Taxas  43,3458595520683   \n",
       "35                Pará     Nº de Vítimas           Taxas  44,1088086584298   \n",
       "20              Paraná     Nº de Vítimas   Ns. Absolutos              2498   \n",
       "\n",
       "                 2017  \n",
       "6                 985  \n",
       "16               1119  \n",
       "53   48,9922713708571  \n",
       "29   50,4469576752099  \n",
       "104  18,3201111714519  \n",
       "11               5346  \n",
       "84   23,1160479880161  \n",
       "42   60,5097038520092  \n",
       "35    45,657581525078  \n",
       "20               2187  "
      ]
     },
     "execution_count": 8,
     "metadata": {},
     "output_type": "execute_result"
    }
   ],
   "source": [
    "# exploring\n",
    "homicides.sample(10)"
   ]
  },
  {
   "cell_type": "code",
   "execution_count": 9,
   "metadata": {
    "colab": {
     "base_uri": "https://localhost:8080/",
     "height": 363
    },
    "colab_type": "code",
    "executionInfo": {
     "elapsed": 2691,
     "status": "ok",
     "timestamp": 1558480573478,
     "user": {
      "displayName": "MARCOS JUNIOR",
      "photoUrl": "",
      "userId": "02126454598504023629"
     },
     "user_tz": 180
    },
    "id": "XlWz8EoaCKto",
    "outputId": "b2bbad29-6a40-4e4f-e343-e6367d5328e8"
   },
   "outputs": [
    {
     "data": {
      "text/html": [
       "<div>\n",
       "<style scoped>\n",
       "    .dataframe tbody tr th:only-of-type {\n",
       "        vertical-align: middle;\n",
       "    }\n",
       "\n",
       "    .dataframe tbody tr th {\n",
       "        vertical-align: top;\n",
       "    }\n",
       "\n",
       "    .dataframe thead th {\n",
       "        text-align: right;\n",
       "    }\n",
       "</style>\n",
       "<table border=\"1\" class=\"dataframe\">\n",
       "  <thead>\n",
       "    <tr style=\"text-align: right;\">\n",
       "      <th></th>\n",
       "      <th>unidade_federativa</th>\n",
       "      <th>grandeza</th>\n",
       "      <th>medida</th>\n",
       "      <th>2016</th>\n",
       "      <th>2017</th>\n",
       "    </tr>\n",
       "  </thead>\n",
       "  <tbody>\n",
       "    <tr>\n",
       "      <th>0</th>\n",
       "      <td>Brasil</td>\n",
       "      <td>Nº de Vítimas</td>\n",
       "      <td>Ns. Absolutos</td>\n",
       "      <td>54.338,00</td>\n",
       "      <td>55.900,00</td>\n",
       "    </tr>\n",
       "    <tr>\n",
       "      <th>1</th>\n",
       "      <td>Alagoas</td>\n",
       "      <td>Nº de Vítimas</td>\n",
       "      <td>Ns. Absolutos</td>\n",
       "      <td>1696</td>\n",
       "      <td>1703</td>\n",
       "    </tr>\n",
       "    <tr>\n",
       "      <th>2</th>\n",
       "      <td>Ceará (6)</td>\n",
       "      <td>Nº de Vítimas</td>\n",
       "      <td>Ns. Absolutos</td>\n",
       "      <td>3331</td>\n",
       "      <td>5042</td>\n",
       "    </tr>\n",
       "    <tr>\n",
       "      <th>3</th>\n",
       "      <td>Espírito Santo</td>\n",
       "      <td>Nº de Vítimas</td>\n",
       "      <td>Ns. Absolutos</td>\n",
       "      <td>1181</td>\n",
       "      <td>1405</td>\n",
       "    </tr>\n",
       "    <tr>\n",
       "      <th>4</th>\n",
       "      <td>Goiás</td>\n",
       "      <td>Nº de Vítimas</td>\n",
       "      <td>Ns. Absolutos</td>\n",
       "      <td>2576</td>\n",
       "      <td>2254</td>\n",
       "    </tr>\n",
       "    <tr>\n",
       "      <th>5</th>\n",
       "      <td>Maranhão (7)</td>\n",
       "      <td>Nº de Vítimas</td>\n",
       "      <td>Ns. Absolutos</td>\n",
       "      <td>2071</td>\n",
       "      <td>1816</td>\n",
       "    </tr>\n",
       "    <tr>\n",
       "      <th>6</th>\n",
       "      <td>Mato Grosso (4)</td>\n",
       "      <td>Nº de Vítimas</td>\n",
       "      <td>Ns. Absolutos</td>\n",
       "      <td>1086</td>\n",
       "      <td>985</td>\n",
       "    </tr>\n",
       "    <tr>\n",
       "      <th>7</th>\n",
       "      <td>Pará</td>\n",
       "      <td>Nº de Vítimas</td>\n",
       "      <td>Ns. Absolutos</td>\n",
       "      <td>3649</td>\n",
       "      <td>3820</td>\n",
       "    </tr>\n",
       "    <tr>\n",
       "      <th>8</th>\n",
       "      <td>Paraíba (4)</td>\n",
       "      <td>Nº de Vítimas</td>\n",
       "      <td>Ns. Absolutos</td>\n",
       "      <td>1280</td>\n",
       "      <td>1242</td>\n",
       "    </tr>\n",
       "    <tr>\n",
       "      <th>9</th>\n",
       "      <td>Pernambuco (4)</td>\n",
       "      <td>Nº de Vítimas</td>\n",
       "      <td>Ns. Absolutos</td>\n",
       "      <td>4277</td>\n",
       "      <td>5139</td>\n",
       "    </tr>\n",
       "  </tbody>\n",
       "</table>\n",
       "</div>"
      ],
      "text/plain": [
       "  unidade_federativa         grandeza         medida         2016         2017\n",
       "0             Brasil   Nº de Vítimas   Ns. Absolutos   54.338,00    55.900,00 \n",
       "1            Alagoas   Nº de Vítimas   Ns. Absolutos         1696         1703\n",
       "2          Ceará (6)   Nº de Vítimas   Ns. Absolutos         3331         5042\n",
       "3     Espírito Santo   Nº de Vítimas   Ns. Absolutos         1181         1405\n",
       "4              Goiás   Nº de Vítimas   Ns. Absolutos         2576         2254\n",
       "5       Maranhão (7)   Nº de Vítimas   Ns. Absolutos         2071         1816\n",
       "6    Mato Grosso (4)   Nº de Vítimas   Ns. Absolutos         1086          985\n",
       "7               Pará   Nº de Vítimas   Ns. Absolutos         3649         3820\n",
       "8        Paraíba (4)   Nº de Vítimas   Ns. Absolutos         1280         1242\n",
       "9     Pernambuco (4)   Nº de Vítimas   Ns. Absolutos         4277         5139"
      ]
     },
     "execution_count": 9,
     "metadata": {},
     "output_type": "execute_result"
    }
   ],
   "source": [
    "# exploring\n",
    "homicides.head(10)"
   ]
  },
  {
   "cell_type": "code",
   "execution_count": 10,
   "metadata": {
    "colab": {
     "base_uri": "https://localhost:8080/",
     "height": 363
    },
    "colab_type": "code",
    "executionInfo": {
     "elapsed": 2658,
     "status": "ok",
     "timestamp": 1558480573482,
     "user": {
      "displayName": "MARCOS JUNIOR",
      "photoUrl": "",
      "userId": "02126454598504023629"
     },
     "user_tz": 180
    },
    "id": "f2k89L50CNMC",
    "outputId": "7ea313e8-6376-4302-e6d6-ca7d7a91db80"
   },
   "outputs": [
    {
     "data": {
      "text/html": [
       "<div>\n",
       "<style scoped>\n",
       "    .dataframe tbody tr th:only-of-type {\n",
       "        vertical-align: middle;\n",
       "    }\n",
       "\n",
       "    .dataframe tbody tr th {\n",
       "        vertical-align: top;\n",
       "    }\n",
       "\n",
       "    .dataframe thead th {\n",
       "        text-align: right;\n",
       "    }\n",
       "</style>\n",
       "<table border=\"1\" class=\"dataframe\">\n",
       "  <thead>\n",
       "    <tr style=\"text-align: right;\">\n",
       "      <th></th>\n",
       "      <th>unidade_federativa</th>\n",
       "      <th>grandeza</th>\n",
       "      <th>medida</th>\n",
       "      <th>2016</th>\n",
       "      <th>2017</th>\n",
       "    </tr>\n",
       "  </thead>\n",
       "  <tbody>\n",
       "    <tr>\n",
       "      <th>102</th>\n",
       "      <td>Distrito Federal</td>\n",
       "      <td>Nº de Ocorrências</td>\n",
       "      <td>Taxas</td>\n",
       "      <td>19,8507599045551</td>\n",
       "      <td>16,3845756000111</td>\n",
       "    </tr>\n",
       "    <tr>\n",
       "      <th>103</th>\n",
       "      <td>Minas Gerais (4) (9)</td>\n",
       "      <td>Nº de Ocorrências</td>\n",
       "      <td>Taxas</td>\n",
       "      <td>19,2498556975191</td>\n",
       "      <td>18,0780486844029</td>\n",
       "    </tr>\n",
       "    <tr>\n",
       "      <th>104</th>\n",
       "      <td>Paraná</td>\n",
       "      <td>Nº de Ocorrências</td>\n",
       "      <td>Taxas</td>\n",
       "      <td>12,8972348328518</td>\n",
       "      <td>18,3201111714519</td>\n",
       "    </tr>\n",
       "    <tr>\n",
       "      <th>105</th>\n",
       "      <td>Rio Grande do Sul (4)</td>\n",
       "      <td>Nº de Ocorrências</td>\n",
       "      <td>Taxas</td>\n",
       "      <td>23,4439374473929</td>\n",
       "      <td>23,0153154294904</td>\n",
       "    </tr>\n",
       "    <tr>\n",
       "      <th>106</th>\n",
       "      <td>São Paulo</td>\n",
       "      <td>Nº de Ocorrências</td>\n",
       "      <td>Taxas</td>\n",
       "      <td>7,86820934817908</td>\n",
       "      <td>7,30460092729846</td>\n",
       "    </tr>\n",
       "    <tr>\n",
       "      <th>107</th>\n",
       "      <td>Mato Grosso do Sul (4) (8)</td>\n",
       "      <td>Nº de Ocorrências</td>\n",
       "      <td>Taxas</td>\n",
       "      <td>21,3988590754649</td>\n",
       "      <td>19,5345110309172</td>\n",
       "    </tr>\n",
       "    <tr>\n",
       "      <th>108</th>\n",
       "      <td>Rondônia (4)</td>\n",
       "      <td>Nº de Ocorrências</td>\n",
       "      <td>Taxas</td>\n",
       "      <td>29,9337708326456</td>\n",
       "      <td>25,4182661530589</td>\n",
       "    </tr>\n",
       "    <tr>\n",
       "      <th>109</th>\n",
       "      <td>Sergipe</td>\n",
       "      <td>Nº de Ocorrências</td>\n",
       "      <td>Taxas</td>\n",
       "      <td>...</td>\n",
       "      <td>...</td>\n",
       "    </tr>\n",
       "    <tr>\n",
       "      <th>110</th>\n",
       "      <td>Roraima (10)</td>\n",
       "      <td>Nº de Ocorrências</td>\n",
       "      <td>Taxas</td>\n",
       "      <td>37,3374508244381</td>\n",
       "      <td>40,5636044972026</td>\n",
       "    </tr>\n",
       "    <tr>\n",
       "      <th>111</th>\n",
       "      <td>Tocantins</td>\n",
       "      <td>Nº de Ocorrências</td>\n",
       "      <td>Taxas</td>\n",
       "      <td>27,2033045817671</td>\n",
       "      <td>21,4811823552407</td>\n",
       "    </tr>\n",
       "  </tbody>\n",
       "</table>\n",
       "</div>"
      ],
      "text/plain": [
       "             unidade_federativa           grandeza medida              2016  \\\n",
       "102            Distrito Federal  Nº de Ocorrências  Taxas  19,8507599045551   \n",
       "103        Minas Gerais (4) (9)  Nº de Ocorrências  Taxas  19,2498556975191   \n",
       "104                      Paraná  Nº de Ocorrências  Taxas  12,8972348328518   \n",
       "105       Rio Grande do Sul (4)  Nº de Ocorrências  Taxas  23,4439374473929   \n",
       "106                   São Paulo  Nº de Ocorrências  Taxas  7,86820934817908   \n",
       "107  Mato Grosso do Sul (4) (8)  Nº de Ocorrências  Taxas  21,3988590754649   \n",
       "108                Rondônia (4)  Nº de Ocorrências  Taxas  29,9337708326456   \n",
       "109                     Sergipe  Nº de Ocorrências  Taxas               ...   \n",
       "110                Roraima (10)  Nº de Ocorrências  Taxas  37,3374508244381   \n",
       "111                   Tocantins  Nº de Ocorrências  Taxas  27,2033045817671   \n",
       "\n",
       "                 2017  \n",
       "102  16,3845756000111  \n",
       "103  18,0780486844029  \n",
       "104  18,3201111714519  \n",
       "105  23,0153154294904  \n",
       "106  7,30460092729846  \n",
       "107  19,5345110309172  \n",
       "108  25,4182661530589  \n",
       "109               ...  \n",
       "110  40,5636044972026  \n",
       "111  21,4811823552407  "
      ]
     },
     "execution_count": 10,
     "metadata": {},
     "output_type": "execute_result"
    }
   ],
   "source": [
    "# exploring\n",
    "homicides.tail(10)"
   ]
  },
  {
   "cell_type": "code",
   "execution_count": 11,
   "metadata": {
    "colab": {
     "base_uri": "https://localhost:8080/",
     "height": 196
    },
    "colab_type": "code",
    "executionInfo": {
     "elapsed": 2622,
     "status": "ok",
     "timestamp": 1558480573485,
     "user": {
      "displayName": "MARCOS JUNIOR",
      "photoUrl": "",
      "userId": "02126454598504023629"
     },
     "user_tz": 180
    },
    "id": "HxAwxlLBAGxh",
    "outputId": "849504e0-866c-4ad4-f683-5629b294df7a"
   },
   "outputs": [
    {
     "name": "stdout",
     "output_type": "stream",
     "text": [
      "<class 'pandas.core.frame.DataFrame'>\n",
      "RangeIndex: 112 entries, 0 to 111\n",
      "Data columns (total 5 columns):\n",
      "unidade_federativa    112 non-null object\n",
      "grandeza              112 non-null object\n",
      "medida                112 non-null object\n",
      "2016                  112 non-null object\n",
      "2017                  112 non-null object\n",
      "dtypes: object(5)\n",
      "memory usage: 4.5+ KB\n"
     ]
    }
   ],
   "source": [
    "# exploring\n",
    "homicides.info()"
   ]
  },
  {
   "cell_type": "markdown",
   "metadata": {
    "colab_type": "text",
    "id": "GqOLYbJ8C73i"
   },
   "source": [
    "**Note**\n",
    "\n",
    "We will not use the values about Brazil for while, so we can drop them.\n",
    "\n",
    "We also need to drop rows that do note have any value (that is, are filled with \"...\")."
   ]
  },
  {
   "cell_type": "markdown",
   "metadata": {
    "colab_type": "text",
    "id": "TDT7rR3LImpg"
   },
   "source": [
    "#### Dropping Rows"
   ]
  },
  {
   "cell_type": "code",
   "execution_count": 12,
   "metadata": {
    "colab": {},
    "colab_type": "code",
    "id": "_BjXc1DjFX5A"
   },
   "outputs": [],
   "source": [
    "# replacing dots for NaN\n",
    "homicides.replace(to_replace='...', value=np.nan, inplace=True)"
   ]
  },
  {
   "cell_type": "code",
   "execution_count": 13,
   "metadata": {
    "colab": {
     "base_uri": "https://localhost:8080/",
     "height": 0
    },
    "colab_type": "code",
    "executionInfo": {
     "elapsed": 2576,
     "status": "ok",
     "timestamp": 1558480573493,
     "user": {
      "displayName": "MARCOS JUNIOR",
      "photoUrl": "",
      "userId": "02126454598504023629"
     },
     "user_tz": 180
    },
    "id": "rbiK36MsGBEq",
    "outputId": "fc29f494-bc9b-4a77-b276-bcce850e8db3"
   },
   "outputs": [
    {
     "data": {
      "text/html": [
       "<div>\n",
       "<style scoped>\n",
       "    .dataframe tbody tr th:only-of-type {\n",
       "        vertical-align: middle;\n",
       "    }\n",
       "\n",
       "    .dataframe tbody tr th {\n",
       "        vertical-align: top;\n",
       "    }\n",
       "\n",
       "    .dataframe thead th {\n",
       "        text-align: right;\n",
       "    }\n",
       "</style>\n",
       "<table border=\"1\" class=\"dataframe\">\n",
       "  <thead>\n",
       "    <tr style=\"text-align: right;\">\n",
       "      <th></th>\n",
       "      <th>unidade_federativa</th>\n",
       "      <th>grandeza</th>\n",
       "      <th>medida</th>\n",
       "      <th>2016</th>\n",
       "      <th>2017</th>\n",
       "    </tr>\n",
       "  </thead>\n",
       "  <tbody>\n",
       "    <tr>\n",
       "      <th>107</th>\n",
       "      <td>Mato Grosso do Sul (4) (8)</td>\n",
       "      <td>Nº de Ocorrências</td>\n",
       "      <td>Taxas</td>\n",
       "      <td>21,3988590754649</td>\n",
       "      <td>19,5345110309172</td>\n",
       "    </tr>\n",
       "    <tr>\n",
       "      <th>108</th>\n",
       "      <td>Rondônia (4)</td>\n",
       "      <td>Nº de Ocorrências</td>\n",
       "      <td>Taxas</td>\n",
       "      <td>29,9337708326456</td>\n",
       "      <td>25,4182661530589</td>\n",
       "    </tr>\n",
       "    <tr>\n",
       "      <th>109</th>\n",
       "      <td>Sergipe</td>\n",
       "      <td>Nº de Ocorrências</td>\n",
       "      <td>Taxas</td>\n",
       "      <td>NaN</td>\n",
       "      <td>NaN</td>\n",
       "    </tr>\n",
       "    <tr>\n",
       "      <th>110</th>\n",
       "      <td>Roraima (10)</td>\n",
       "      <td>Nº de Ocorrências</td>\n",
       "      <td>Taxas</td>\n",
       "      <td>37,3374508244381</td>\n",
       "      <td>40,5636044972026</td>\n",
       "    </tr>\n",
       "    <tr>\n",
       "      <th>111</th>\n",
       "      <td>Tocantins</td>\n",
       "      <td>Nº de Ocorrências</td>\n",
       "      <td>Taxas</td>\n",
       "      <td>27,2033045817671</td>\n",
       "      <td>21,4811823552407</td>\n",
       "    </tr>\n",
       "  </tbody>\n",
       "</table>\n",
       "</div>"
      ],
      "text/plain": [
       "             unidade_federativa           grandeza medida              2016  \\\n",
       "107  Mato Grosso do Sul (4) (8)  Nº de Ocorrências  Taxas  21,3988590754649   \n",
       "108                Rondônia (4)  Nº de Ocorrências  Taxas  29,9337708326456   \n",
       "109                     Sergipe  Nº de Ocorrências  Taxas               NaN   \n",
       "110                Roraima (10)  Nº de Ocorrências  Taxas  37,3374508244381   \n",
       "111                   Tocantins  Nº de Ocorrências  Taxas  27,2033045817671   \n",
       "\n",
       "                 2017  \n",
       "107  19,5345110309172  \n",
       "108  25,4182661530589  \n",
       "109               NaN  \n",
       "110  40,5636044972026  \n",
       "111  21,4811823552407  "
      ]
     },
     "execution_count": 13,
     "metadata": {},
     "output_type": "execute_result"
    }
   ],
   "source": [
    "# checking the replacement\n",
    "homicides.tail()"
   ]
  },
  {
   "cell_type": "markdown",
   "metadata": {
    "colab_type": "text",
    "id": "z0BFULQ1LPzc"
   },
   "source": [
    "**Note**\n",
    "\n",
    "The replacement was successfull. Now, we can drop the rows."
   ]
  },
  {
   "cell_type": "code",
   "execution_count": 14,
   "metadata": {
    "colab": {
     "base_uri": "https://localhost:8080/",
     "height": 0
    },
    "colab_type": "code",
    "executionInfo": {
     "elapsed": 2558,
     "status": "ok",
     "timestamp": 1558480573496,
     "user": {
      "displayName": "MARCOS JUNIOR",
      "photoUrl": "",
      "userId": "02126454598504023629"
     },
     "user_tz": 180
    },
    "id": "-_8NildVHK-Z",
    "outputId": "50329e3e-5c28-4d11-c3cf-f329309e5ea8"
   },
   "outputs": [
    {
     "data": {
      "text/html": [
       "<div>\n",
       "<style scoped>\n",
       "    .dataframe tbody tr th:only-of-type {\n",
       "        vertical-align: middle;\n",
       "    }\n",
       "\n",
       "    .dataframe tbody tr th {\n",
       "        vertical-align: top;\n",
       "    }\n",
       "\n",
       "    .dataframe thead th {\n",
       "        text-align: right;\n",
       "    }\n",
       "</style>\n",
       "<table border=\"1\" class=\"dataframe\">\n",
       "  <thead>\n",
       "    <tr style=\"text-align: right;\">\n",
       "      <th></th>\n",
       "      <th>unidade_federativa</th>\n",
       "      <th>grandeza</th>\n",
       "      <th>medida</th>\n",
       "      <th>2016</th>\n",
       "      <th>2017</th>\n",
       "    </tr>\n",
       "  </thead>\n",
       "  <tbody>\n",
       "    <tr>\n",
       "      <th>0</th>\n",
       "      <td>Brasil</td>\n",
       "      <td>Nº de Vítimas</td>\n",
       "      <td>Ns. Absolutos</td>\n",
       "      <td>54.338,00</td>\n",
       "      <td>55.900,00</td>\n",
       "    </tr>\n",
       "    <tr>\n",
       "      <th>28</th>\n",
       "      <td>Brasil</td>\n",
       "      <td>Nº de Vítimas</td>\n",
       "      <td>Taxas</td>\n",
       "      <td>26,367246904612</td>\n",
       "      <td>26,9188817892652</td>\n",
       "    </tr>\n",
       "    <tr>\n",
       "      <th>56</th>\n",
       "      <td>Brasil</td>\n",
       "      <td>Nº de Ocorrências</td>\n",
       "      <td>Ns. Absolutos</td>\n",
       "      <td>45724</td>\n",
       "      <td>48003</td>\n",
       "    </tr>\n",
       "    <tr>\n",
       "      <th>60</th>\n",
       "      <td>Goiás</td>\n",
       "      <td>Nº de Ocorrências</td>\n",
       "      <td>Ns. Absolutos</td>\n",
       "      <td>NaN</td>\n",
       "      <td>NaN</td>\n",
       "    </tr>\n",
       "    <tr>\n",
       "      <th>68</th>\n",
       "      <td>Rio Grande do Norte</td>\n",
       "      <td>Nº de Ocorrências</td>\n",
       "      <td>Ns. Absolutos</td>\n",
       "      <td>NaN</td>\n",
       "      <td>NaN</td>\n",
       "    </tr>\n",
       "    <tr>\n",
       "      <th>81</th>\n",
       "      <td>Sergipe</td>\n",
       "      <td>Nº de Ocorrências</td>\n",
       "      <td>Ns. Absolutos</td>\n",
       "      <td>NaN</td>\n",
       "      <td>NaN</td>\n",
       "    </tr>\n",
       "    <tr>\n",
       "      <th>84</th>\n",
       "      <td>Brasil</td>\n",
       "      <td>Nº de Ocorrências</td>\n",
       "      <td>Taxas</td>\n",
       "      <td>22,1873458255084</td>\n",
       "      <td>23,1160479880161</td>\n",
       "    </tr>\n",
       "    <tr>\n",
       "      <th>88</th>\n",
       "      <td>Goiás</td>\n",
       "      <td>Nº de Ocorrências</td>\n",
       "      <td>Taxas</td>\n",
       "      <td>NaN</td>\n",
       "      <td>NaN</td>\n",
       "    </tr>\n",
       "    <tr>\n",
       "      <th>96</th>\n",
       "      <td>Rio Grande do Norte</td>\n",
       "      <td>Nº de Ocorrências</td>\n",
       "      <td>Taxas</td>\n",
       "      <td>NaN</td>\n",
       "      <td>NaN</td>\n",
       "    </tr>\n",
       "    <tr>\n",
       "      <th>109</th>\n",
       "      <td>Sergipe</td>\n",
       "      <td>Nº de Ocorrências</td>\n",
       "      <td>Taxas</td>\n",
       "      <td>NaN</td>\n",
       "      <td>NaN</td>\n",
       "    </tr>\n",
       "  </tbody>\n",
       "</table>\n",
       "</div>"
      ],
      "text/plain": [
       "      unidade_federativa           grandeza         medida              2016  \\\n",
       "0                 Brasil     Nº de Vítimas   Ns. Absolutos        54.338,00    \n",
       "28                Brasil     Nº de Vítimas           Taxas   26,367246904612   \n",
       "56                Brasil  Nº de Ocorrências  Ns. Absolutos             45724   \n",
       "60                 Goiás  Nº de Ocorrências  Ns. Absolutos               NaN   \n",
       "68   Rio Grande do Norte  Nº de Ocorrências  Ns. Absolutos               NaN   \n",
       "81               Sergipe  Nº de Ocorrências  Ns. Absolutos               NaN   \n",
       "84                Brasil  Nº de Ocorrências          Taxas  22,1873458255084   \n",
       "88                 Goiás  Nº de Ocorrências          Taxas               NaN   \n",
       "96   Rio Grande do Norte  Nº de Ocorrências          Taxas               NaN   \n",
       "109              Sergipe  Nº de Ocorrências          Taxas               NaN   \n",
       "\n",
       "                 2017  \n",
       "0          55.900,00   \n",
       "28   26,9188817892652  \n",
       "56              48003  \n",
       "60                NaN  \n",
       "68                NaN  \n",
       "81                NaN  \n",
       "84   23,1160479880161  \n",
       "88                NaN  \n",
       "96                NaN  \n",
       "109               NaN  "
      ]
     },
     "execution_count": 14,
     "metadata": {},
     "output_type": "execute_result"
    }
   ],
   "source": [
    "# mask to rows about Brazil\n",
    "mask_brazil = homicides.unidade_federativa == 'Brasil'\n",
    "\n",
    "# mask to rows with null values\n",
    "mask_null = homicides['2016'].isnull() | homicides['2017'].isnull()\n",
    "\n",
    "# merging the masks\n",
    "mask_to_drop = mask_brazil | mask_null\n",
    "\n",
    "# checking the values to drop\n",
    "homicides[mask_to_drop]"
   ]
  },
  {
   "cell_type": "code",
   "execution_count": 15,
   "metadata": {
    "colab": {},
    "colab_type": "code",
    "id": "XgTrdFYaElnK"
   },
   "outputs": [],
   "source": [
    "# list of indexes to be dropped\n",
    "to_drop = homicides[mask_to_drop].index.tolist()\n",
    "\n",
    "# dropping the selected rows\n",
    "homicides.drop(index=to_drop, inplace=True)"
   ]
  },
  {
   "cell_type": "code",
   "execution_count": 16,
   "metadata": {
    "colab": {
     "base_uri": "https://localhost:8080/",
     "height": 0
    },
    "colab_type": "code",
    "executionInfo": {
     "elapsed": 2534,
     "status": "ok",
     "timestamp": 1558480573506,
     "user": {
      "displayName": "MARCOS JUNIOR",
      "photoUrl": "",
      "userId": "02126454598504023629"
     },
     "user_tz": 180
    },
    "id": "JuQW8l2RDixf",
    "outputId": "bc1aa096-3ebd-47d9-8026-56eb983ac332"
   },
   "outputs": [
    {
     "name": "stdout",
     "output_type": "stream",
     "text": [
      "<class 'pandas.core.frame.DataFrame'>\n",
      "Int64Index: 102 entries, 1 to 111\n",
      "Data columns (total 5 columns):\n",
      "unidade_federativa    102 non-null object\n",
      "grandeza              102 non-null object\n",
      "medida                102 non-null object\n",
      "2016                  102 non-null object\n",
      "2017                  102 non-null object\n",
      "dtypes: object(5)\n",
      "memory usage: 4.8+ KB\n"
     ]
    }
   ],
   "source": [
    "# exploring\n",
    "homicides.info()"
   ]
  },
  {
   "cell_type": "code",
   "execution_count": 17,
   "metadata": {
    "colab": {
     "base_uri": "https://localhost:8080/",
     "height": 0
    },
    "colab_type": "code",
    "executionInfo": {
     "elapsed": 2516,
     "status": "ok",
     "timestamp": 1558480573509,
     "user": {
      "displayName": "MARCOS JUNIOR",
      "photoUrl": "",
      "userId": "02126454598504023629"
     },
     "user_tz": 180
    },
    "id": "MScc1poTJJIh",
    "outputId": "37e635ee-92b7-4823-ed1e-42c346437f17"
   },
   "outputs": [
    {
     "data": {
      "text/html": [
       "<div>\n",
       "<style scoped>\n",
       "    .dataframe tbody tr th:only-of-type {\n",
       "        vertical-align: middle;\n",
       "    }\n",
       "\n",
       "    .dataframe tbody tr th {\n",
       "        vertical-align: top;\n",
       "    }\n",
       "\n",
       "    .dataframe thead th {\n",
       "        text-align: right;\n",
       "    }\n",
       "</style>\n",
       "<table border=\"1\" class=\"dataframe\">\n",
       "  <thead>\n",
       "    <tr style=\"text-align: right;\">\n",
       "      <th></th>\n",
       "      <th>unidade_federativa</th>\n",
       "      <th>grandeza</th>\n",
       "      <th>medida</th>\n",
       "      <th>2016</th>\n",
       "      <th>2017</th>\n",
       "    </tr>\n",
       "  </thead>\n",
       "  <tbody>\n",
       "    <tr>\n",
       "      <th>71</th>\n",
       "      <td>Amapá (5)</td>\n",
       "      <td>Nº de Ocorrências</td>\n",
       "      <td>Ns. Absolutos</td>\n",
       "      <td>308</td>\n",
       "      <td>325</td>\n",
       "    </tr>\n",
       "    <tr>\n",
       "      <th>110</th>\n",
       "      <td>Roraima (10)</td>\n",
       "      <td>Nº de Ocorrências</td>\n",
       "      <td>Taxas</td>\n",
       "      <td>37,3374508244381</td>\n",
       "      <td>40,5636044972026</td>\n",
       "    </tr>\n",
       "    <tr>\n",
       "      <th>1</th>\n",
       "      <td>Alagoas</td>\n",
       "      <td>Nº de Vítimas</td>\n",
       "      <td>Ns. Absolutos</td>\n",
       "      <td>1696</td>\n",
       "      <td>1703</td>\n",
       "    </tr>\n",
       "    <tr>\n",
       "      <th>2</th>\n",
       "      <td>Ceará (6)</td>\n",
       "      <td>Nº de Vítimas</td>\n",
       "      <td>Ns. Absolutos</td>\n",
       "      <td>3331</td>\n",
       "      <td>5042</td>\n",
       "    </tr>\n",
       "    <tr>\n",
       "      <th>58</th>\n",
       "      <td>Ceará (6)</td>\n",
       "      <td>Nº de Ocorrências</td>\n",
       "      <td>Ns. Absolutos</td>\n",
       "      <td>3163</td>\n",
       "      <td>4743</td>\n",
       "    </tr>\n",
       "    <tr>\n",
       "      <th>50</th>\n",
       "      <td>São Paulo</td>\n",
       "      <td>Nº de Vítimas</td>\n",
       "      <td>Taxas</td>\n",
       "      <td>8,21011108923883</td>\n",
       "      <td>7,77028586801877</td>\n",
       "    </tr>\n",
       "    <tr>\n",
       "      <th>92</th>\n",
       "      <td>Paraíba (4)</td>\n",
       "      <td>Nº de Ocorrências</td>\n",
       "      <td>Taxas</td>\n",
       "      <td>31,2045636674364</td>\n",
       "      <td>29,9834209319553</td>\n",
       "    </tr>\n",
       "    <tr>\n",
       "      <th>111</th>\n",
       "      <td>Tocantins</td>\n",
       "      <td>Nº de Ocorrências</td>\n",
       "      <td>Taxas</td>\n",
       "      <td>27,2033045817671</td>\n",
       "      <td>21,4811823552407</td>\n",
       "    </tr>\n",
       "    <tr>\n",
       "      <th>59</th>\n",
       "      <td>Espírito Santo</td>\n",
       "      <td>Nº de Ocorrências</td>\n",
       "      <td>Ns. Absolutos</td>\n",
       "      <td>1177</td>\n",
       "      <td>1386</td>\n",
       "    </tr>\n",
       "    <tr>\n",
       "      <th>87</th>\n",
       "      <td>Espírito Santo</td>\n",
       "      <td>Nº de Ocorrências</td>\n",
       "      <td>Taxas</td>\n",
       "      <td>29,619772217157</td>\n",
       "      <td>34,508893135967</td>\n",
       "    </tr>\n",
       "  </tbody>\n",
       "</table>\n",
       "</div>"
      ],
      "text/plain": [
       "    unidade_federativa           grandeza         medida              2016  \\\n",
       "71           Amapá (5)  Nº de Ocorrências  Ns. Absolutos               308   \n",
       "110       Roraima (10)  Nº de Ocorrências          Taxas  37,3374508244381   \n",
       "1              Alagoas     Nº de Vítimas   Ns. Absolutos              1696   \n",
       "2            Ceará (6)     Nº de Vítimas   Ns. Absolutos              3331   \n",
       "58           Ceará (6)  Nº de Ocorrências  Ns. Absolutos              3163   \n",
       "50           São Paulo     Nº de Vítimas           Taxas  8,21011108923883   \n",
       "92         Paraíba (4)  Nº de Ocorrências          Taxas  31,2045636674364   \n",
       "111          Tocantins  Nº de Ocorrências          Taxas  27,2033045817671   \n",
       "59      Espírito Santo  Nº de Ocorrências  Ns. Absolutos              1177   \n",
       "87      Espírito Santo  Nº de Ocorrências          Taxas   29,619772217157   \n",
       "\n",
       "                 2017  \n",
       "71                325  \n",
       "110  40,5636044972026  \n",
       "1                1703  \n",
       "2                5042  \n",
       "58               4743  \n",
       "50   7,77028586801877  \n",
       "92   29,9834209319553  \n",
       "111  21,4811823552407  \n",
       "59               1386  \n",
       "87    34,508893135967  "
      ]
     },
     "execution_count": 17,
     "metadata": {},
     "output_type": "execute_result"
    }
   ],
   "source": [
    "# exploring\n",
    "homicides.sample(10)"
   ]
  },
  {
   "cell_type": "markdown",
   "metadata": {
    "colab_type": "text",
    "id": "SGt7dffcLjg6"
   },
   "source": [
    "**Note**\n",
    "\n",
    "We have a dataset free of null values.\n",
    "\n",
    "Some values in *2016* and *2017* columns are in string format using comma as decimal separator.\n",
    "\n",
    "We do need to transform and clean these columns."
   ]
  },
  {
   "cell_type": "markdown",
   "metadata": {
    "colab_type": "text",
    "id": "_wjsw7hiMWbv"
   },
   "source": [
    "#### Cleaning Columns 2016 and 2017"
   ]
  },
  {
   "cell_type": "markdown",
   "metadata": {
    "colab_type": "text",
    "id": "v3T9VTuTMeRK"
   },
   "source": [
    "We will convert all data in these columns to string, replace from comma to dot in the values and convert to float."
   ]
  },
  {
   "cell_type": "code",
   "execution_count": 18,
   "metadata": {
    "colab": {},
    "colab_type": "code",
    "id": "yIbA18PWM5dx"
   },
   "outputs": [],
   "source": [
    "# converting columns to string\n",
    "for col in ['2016', '2017']:\n",
    "  homicides[col] = homicides[col].str.replace(',', '.').apply(float)"
   ]
  },
  {
   "cell_type": "code",
   "execution_count": 19,
   "metadata": {
    "colab": {
     "base_uri": "https://localhost:8080/",
     "height": 0
    },
    "colab_type": "code",
    "executionInfo": {
     "elapsed": 2492,
     "status": "ok",
     "timestamp": 1558480573519,
     "user": {
      "displayName": "MARCOS JUNIOR",
      "photoUrl": "",
      "userId": "02126454598504023629"
     },
     "user_tz": 180
    },
    "id": "kcrc4i_hONgW",
    "outputId": "7e6a8d66-afcf-41a3-b80f-42e2816b2f28"
   },
   "outputs": [
    {
     "data": {
      "text/html": [
       "<div>\n",
       "<style scoped>\n",
       "    .dataframe tbody tr th:only-of-type {\n",
       "        vertical-align: middle;\n",
       "    }\n",
       "\n",
       "    .dataframe tbody tr th {\n",
       "        vertical-align: top;\n",
       "    }\n",
       "\n",
       "    .dataframe thead th {\n",
       "        text-align: right;\n",
       "    }\n",
       "</style>\n",
       "<table border=\"1\" class=\"dataframe\">\n",
       "  <thead>\n",
       "    <tr style=\"text-align: right;\">\n",
       "      <th></th>\n",
       "      <th>unidade_federativa</th>\n",
       "      <th>grandeza</th>\n",
       "      <th>medida</th>\n",
       "      <th>2016</th>\n",
       "      <th>2017</th>\n",
       "    </tr>\n",
       "  </thead>\n",
       "  <tbody>\n",
       "    <tr>\n",
       "      <th>77</th>\n",
       "      <td>Rio Grande do Sul (4)</td>\n",
       "      <td>Nº de Ocorrências</td>\n",
       "      <td>Ns. Absolutos</td>\n",
       "      <td>2646.000000</td>\n",
       "      <td>2606.000000</td>\n",
       "    </tr>\n",
       "    <tr>\n",
       "      <th>22</th>\n",
       "      <td>São Paulo</td>\n",
       "      <td>Nº de Vítimas</td>\n",
       "      <td>Ns. Absolutos</td>\n",
       "      <td>3674.000000</td>\n",
       "      <td>3504.000000</td>\n",
       "    </tr>\n",
       "    <tr>\n",
       "      <th>37</th>\n",
       "      <td>Pernambuco (4)</td>\n",
       "      <td>Nº de Vítimas</td>\n",
       "      <td>Taxas</td>\n",
       "      <td>45.450024</td>\n",
       "      <td>54.247395</td>\n",
       "    </tr>\n",
       "    <tr>\n",
       "      <th>43</th>\n",
       "      <td>Amapá (5)</td>\n",
       "      <td>Nº de Vítimas</td>\n",
       "      <td>Taxas</td>\n",
       "      <td>39.243508</td>\n",
       "      <td>44.125648</td>\n",
       "    </tr>\n",
       "    <tr>\n",
       "      <th>100</th>\n",
       "      <td>Amazonas</td>\n",
       "      <td>Nº de Ocorrências</td>\n",
       "      <td>Taxas</td>\n",
       "      <td>24.514783</td>\n",
       "      <td>24.854723</td>\n",
       "    </tr>\n",
       "    <tr>\n",
       "      <th>65</th>\n",
       "      <td>Pernambuco (4)</td>\n",
       "      <td>Nº de Ocorrências</td>\n",
       "      <td>Ns. Absolutos</td>\n",
       "      <td>4116.000000</td>\n",
       "      <td>4894.000000</td>\n",
       "    </tr>\n",
       "    <tr>\n",
       "      <th>24</th>\n",
       "      <td>Rondônia (4)</td>\n",
       "      <td>Nº de Vítimas</td>\n",
       "      <td>Ns. Absolutos</td>\n",
       "      <td>545.000000</td>\n",
       "      <td>481.000000</td>\n",
       "    </tr>\n",
       "    <tr>\n",
       "      <th>107</th>\n",
       "      <td>Mato Grosso do Sul (4) (8)</td>\n",
       "      <td>Nº de Ocorrências</td>\n",
       "      <td>Taxas</td>\n",
       "      <td>21.398859</td>\n",
       "      <td>19.534511</td>\n",
       "    </tr>\n",
       "    <tr>\n",
       "      <th>66</th>\n",
       "      <td>Piauí (4) (7)</td>\n",
       "      <td>Nº de Ocorrências</td>\n",
       "      <td>Ns. Absolutos</td>\n",
       "      <td>642.000000</td>\n",
       "      <td>597.000000</td>\n",
       "    </tr>\n",
       "    <tr>\n",
       "      <th>7</th>\n",
       "      <td>Pará</td>\n",
       "      <td>Nº de Vítimas</td>\n",
       "      <td>Ns. Absolutos</td>\n",
       "      <td>3649.000000</td>\n",
       "      <td>3820.000000</td>\n",
       "    </tr>\n",
       "  </tbody>\n",
       "</table>\n",
       "</div>"
      ],
      "text/plain": [
       "             unidade_federativa           grandeza         medida  \\\n",
       "77        Rio Grande do Sul (4)  Nº de Ocorrências  Ns. Absolutos   \n",
       "22                    São Paulo     Nº de Vítimas   Ns. Absolutos   \n",
       "37               Pernambuco (4)     Nº de Vítimas           Taxas   \n",
       "43                    Amapá (5)     Nº de Vítimas           Taxas   \n",
       "100                    Amazonas  Nº de Ocorrências          Taxas   \n",
       "65               Pernambuco (4)  Nº de Ocorrências  Ns. Absolutos   \n",
       "24                 Rondônia (4)     Nº de Vítimas   Ns. Absolutos   \n",
       "107  Mato Grosso do Sul (4) (8)  Nº de Ocorrências          Taxas   \n",
       "66                Piauí (4) (7)  Nº de Ocorrências  Ns. Absolutos   \n",
       "7                          Pará     Nº de Vítimas   Ns. Absolutos   \n",
       "\n",
       "            2016         2017  \n",
       "77   2646.000000  2606.000000  \n",
       "22   3674.000000  3504.000000  \n",
       "37     45.450024    54.247395  \n",
       "43     39.243508    44.125648  \n",
       "100    24.514783    24.854723  \n",
       "65   4116.000000  4894.000000  \n",
       "24    545.000000   481.000000  \n",
       "107    21.398859    19.534511  \n",
       "66    642.000000   597.000000  \n",
       "7    3649.000000  3820.000000  "
      ]
     },
     "execution_count": 19,
     "metadata": {},
     "output_type": "execute_result"
    }
   ],
   "source": [
    "# checking result\n",
    "homicides.sample(10)"
   ]
  },
  {
   "cell_type": "code",
   "execution_count": 20,
   "metadata": {
    "colab": {
     "base_uri": "https://localhost:8080/",
     "height": 0
    },
    "colab_type": "code",
    "executionInfo": {
     "elapsed": 2480,
     "status": "ok",
     "timestamp": 1558480573522,
     "user": {
      "displayName": "MARCOS JUNIOR",
      "photoUrl": "",
      "userId": "02126454598504023629"
     },
     "user_tz": 180
    },
    "id": "jgRUN_-fQfye",
    "outputId": "b45277d2-14d8-49cd-82f4-b057a0d2fbfc"
   },
   "outputs": [
    {
     "name": "stdout",
     "output_type": "stream",
     "text": [
      "<class 'pandas.core.frame.DataFrame'>\n",
      "Int64Index: 102 entries, 1 to 111\n",
      "Data columns (total 5 columns):\n",
      "unidade_federativa    102 non-null object\n",
      "grandeza              102 non-null object\n",
      "medida                102 non-null object\n",
      "2016                  102 non-null float64\n",
      "2017                  102 non-null float64\n",
      "dtypes: float64(2), object(3)\n",
      "memory usage: 4.8+ KB\n"
     ]
    }
   ],
   "source": [
    "# checking resulting type\n",
    "homicides.info()"
   ]
  },
  {
   "cell_type": "markdown",
   "metadata": {
    "colab_type": "text",
    "id": "mrDEE8MrRADW"
   },
   "source": [
    "**Note**\n",
    "\n",
    "We also need to clean the names of Federative Units, removing the \"(x)\" marks.\n",
    "\n",
    "We can do this performing a RegEx replacement."
   ]
  },
  {
   "cell_type": "markdown",
   "metadata": {
    "colab_type": "text",
    "id": "eKnO5KvxROHd"
   },
   "source": [
    "#### Cleaning Federative Units Column"
   ]
  },
  {
   "cell_type": "code",
   "execution_count": 21,
   "metadata": {
    "colab": {},
    "colab_type": "code",
    "id": "5noPeGnyVObU"
   },
   "outputs": [],
   "source": [
    "# column label\n",
    "col_fu = 'unidade_federativa'\n",
    "\n",
    "# applying regex replacement\n",
    "homicides[col_fu] = homicides[col_fu].str.replace('\\(\\d+\\)', '', regex=True)\n",
    "\n",
    "# stripping white spaces from the values\n",
    "homicides[col_fu] = homicides[col_fu].str.strip()"
   ]
  },
  {
   "cell_type": "code",
   "execution_count": 22,
   "metadata": {
    "colab": {
     "base_uri": "https://localhost:8080/",
     "height": 0
    },
    "colab_type": "code",
    "executionInfo": {
     "elapsed": 2453,
     "status": "ok",
     "timestamp": 1558480573529,
     "user": {
      "displayName": "MARCOS JUNIOR",
      "photoUrl": "",
      "userId": "02126454598504023629"
     },
     "user_tz": 180
    },
    "id": "LDwRUIl4WGqH",
    "outputId": "345a59e7-fb24-4cbb-8ca8-2f115a9915e0"
   },
   "outputs": [
    {
     "data": {
      "text/html": [
       "<div>\n",
       "<style scoped>\n",
       "    .dataframe tbody tr th:only-of-type {\n",
       "        vertical-align: middle;\n",
       "    }\n",
       "\n",
       "    .dataframe tbody tr th {\n",
       "        vertical-align: top;\n",
       "    }\n",
       "\n",
       "    .dataframe thead th {\n",
       "        text-align: right;\n",
       "    }\n",
       "</style>\n",
       "<table border=\"1\" class=\"dataframe\">\n",
       "  <thead>\n",
       "    <tr style=\"text-align: right;\">\n",
       "      <th></th>\n",
       "      <th>unidade_federativa</th>\n",
       "      <th>grandeza</th>\n",
       "      <th>medida</th>\n",
       "      <th>2016</th>\n",
       "      <th>2017</th>\n",
       "    </tr>\n",
       "  </thead>\n",
       "  <tbody>\n",
       "    <tr>\n",
       "      <th>107</th>\n",
       "      <td>Mato Grosso do Sul</td>\n",
       "      <td>Nº de Ocorrências</td>\n",
       "      <td>Taxas</td>\n",
       "      <td>21.398859</td>\n",
       "      <td>19.534511</td>\n",
       "    </tr>\n",
       "    <tr>\n",
       "      <th>69</th>\n",
       "      <td>Santa Catarina</td>\n",
       "      <td>Nº de Ocorrências</td>\n",
       "      <td>Ns. Absolutos</td>\n",
       "      <td>860.000000</td>\n",
       "      <td>943.000000</td>\n",
       "    </tr>\n",
       "    <tr>\n",
       "      <th>49</th>\n",
       "      <td>Rio Grande do Sul</td>\n",
       "      <td>Nº de Vítimas</td>\n",
       "      <td>Taxas</td>\n",
       "      <td>25.304567</td>\n",
       "      <td>25.302716</td>\n",
       "    </tr>\n",
       "    <tr>\n",
       "      <th>9</th>\n",
       "      <td>Pernambuco</td>\n",
       "      <td>Nº de Vítimas</td>\n",
       "      <td>Ns. Absolutos</td>\n",
       "      <td>4277.000000</td>\n",
       "      <td>5139.000000</td>\n",
       "    </tr>\n",
       "    <tr>\n",
       "      <th>53</th>\n",
       "      <td>Sergipe</td>\n",
       "      <td>Nº de Vítimas</td>\n",
       "      <td>Taxas</td>\n",
       "      <td>57.640220</td>\n",
       "      <td>48.992271</td>\n",
       "    </tr>\n",
       "    <tr>\n",
       "      <th>111</th>\n",
       "      <td>Tocantins</td>\n",
       "      <td>Nº de Ocorrências</td>\n",
       "      <td>Taxas</td>\n",
       "      <td>27.203305</td>\n",
       "      <td>21.481182</td>\n",
       "    </tr>\n",
       "    <tr>\n",
       "      <th>104</th>\n",
       "      <td>Paraná</td>\n",
       "      <td>Nº de Ocorrências</td>\n",
       "      <td>Taxas</td>\n",
       "      <td>12.897235</td>\n",
       "      <td>18.320111</td>\n",
       "    </tr>\n",
       "    <tr>\n",
       "      <th>8</th>\n",
       "      <td>Paraíba</td>\n",
       "      <td>Nº de Vítimas</td>\n",
       "      <td>Ns. Absolutos</td>\n",
       "      <td>1280.000000</td>\n",
       "      <td>1242.000000</td>\n",
       "    </tr>\n",
       "    <tr>\n",
       "      <th>3</th>\n",
       "      <td>Espírito Santo</td>\n",
       "      <td>Nº de Vítimas</td>\n",
       "      <td>Ns. Absolutos</td>\n",
       "      <td>1181.000000</td>\n",
       "      <td>1405.000000</td>\n",
       "    </tr>\n",
       "    <tr>\n",
       "      <th>30</th>\n",
       "      <td>Ceará</td>\n",
       "      <td>Nº de Vítimas</td>\n",
       "      <td>Taxas</td>\n",
       "      <td>37.161147</td>\n",
       "      <td>55.895154</td>\n",
       "    </tr>\n",
       "  </tbody>\n",
       "</table>\n",
       "</div>"
      ],
      "text/plain": [
       "     unidade_federativa           grandeza         medida         2016  \\\n",
       "107  Mato Grosso do Sul  Nº de Ocorrências          Taxas    21.398859   \n",
       "69       Santa Catarina  Nº de Ocorrências  Ns. Absolutos   860.000000   \n",
       "49    Rio Grande do Sul     Nº de Vítimas           Taxas    25.304567   \n",
       "9            Pernambuco     Nº de Vítimas   Ns. Absolutos  4277.000000   \n",
       "53              Sergipe     Nº de Vítimas           Taxas    57.640220   \n",
       "111           Tocantins  Nº de Ocorrências          Taxas    27.203305   \n",
       "104              Paraná  Nº de Ocorrências          Taxas    12.897235   \n",
       "8               Paraíba     Nº de Vítimas   Ns. Absolutos  1280.000000   \n",
       "3        Espírito Santo     Nº de Vítimas   Ns. Absolutos  1181.000000   \n",
       "30                Ceará     Nº de Vítimas           Taxas    37.161147   \n",
       "\n",
       "            2017  \n",
       "107    19.534511  \n",
       "69    943.000000  \n",
       "49     25.302716  \n",
       "9    5139.000000  \n",
       "53     48.992271  \n",
       "111    21.481182  \n",
       "104    18.320111  \n",
       "8    1242.000000  \n",
       "3    1405.000000  \n",
       "30     55.895154  "
      ]
     },
     "execution_count": 22,
     "metadata": {},
     "output_type": "execute_result"
    }
   ],
   "source": [
    "homicides.sample(10)"
   ]
  },
  {
   "cell_type": "markdown",
   "metadata": {
    "colab_type": "text",
    "id": "yjnNeXiNXC4K"
   },
   "source": [
    "**Note**\n",
    "\n",
    "We need also check the other columns for possible inconsistencies."
   ]
  },
  {
   "cell_type": "markdown",
   "metadata": {
    "colab_type": "text",
    "id": "6SpOoZOLW_If"
   },
   "source": [
    "#### Cleaning Other Columns"
   ]
  },
  {
   "cell_type": "code",
   "execution_count": 23,
   "metadata": {
    "colab": {
     "base_uri": "https://localhost:8080/",
     "height": 71
    },
    "colab_type": "code",
    "executionInfo": {
     "elapsed": 2423,
     "status": "ok",
     "timestamp": 1558480573533,
     "user": {
      "displayName": "MARCOS JUNIOR",
      "photoUrl": "",
      "userId": "02126454598504023629"
     },
     "user_tz": 180
    },
    "id": "JnvucoE-W4vQ",
    "outputId": "48aee996-408f-4019-c6dc-e7927069ce95"
   },
   "outputs": [
    {
     "data": {
      "text/plain": [
       " Nº de Vítimas       54\n",
       "Nº de Ocorrências    48\n",
       "Name: grandeza, dtype: int64"
      ]
     },
     "execution_count": 23,
     "metadata": {},
     "output_type": "execute_result"
    }
   ],
   "source": [
    "# checking value counts\n",
    "homicides['grandeza'].value_counts(dropna=False)"
   ]
  },
  {
   "cell_type": "markdown",
   "metadata": {
    "colab_type": "text",
    "id": "yPbMvHFYXnGb"
   },
   "source": [
    "**Note**\n",
    "\n",
    "For convenience and consistency, we can strip white spaces from the values."
   ]
  },
  {
   "cell_type": "code",
   "execution_count": 24,
   "metadata": {
    "colab": {
     "base_uri": "https://localhost:8080/",
     "height": 71
    },
    "colab_type": "code",
    "executionInfo": {
     "elapsed": 2399,
     "status": "ok",
     "timestamp": 1558480573536,
     "user": {
      "displayName": "MARCOS JUNIOR",
      "photoUrl": "",
      "userId": "02126454598504023629"
     },
     "user_tz": 180
    },
    "id": "v8PBO9-IXV91",
    "outputId": "bb0b1cfa-0611-4efd-91c9-b1c2dac0c98d"
   },
   "outputs": [
    {
     "data": {
      "text/plain": [
       "Taxas            51\n",
       "Ns. Absolutos    51\n",
       "Name: medida, dtype: int64"
      ]
     },
     "execution_count": 24,
     "metadata": {},
     "output_type": "execute_result"
    }
   ],
   "source": [
    "# checking value counts\n",
    "homicides['medida'].value_counts(dropna=False)"
   ]
  },
  {
   "cell_type": "code",
   "execution_count": 25,
   "metadata": {
    "colab": {},
    "colab_type": "code",
    "id": "TtPGxmI-XZXp"
   },
   "outputs": [],
   "source": [
    "# stripping possible white space values\n",
    "for col in ['grandeza', 'medida']:\n",
    "  homicides[col] = homicides[col].str.strip()"
   ]
  },
  {
   "cell_type": "code",
   "execution_count": 26,
   "metadata": {
    "colab": {
     "base_uri": "https://localhost:8080/",
     "height": 71
    },
    "colab_type": "code",
    "executionInfo": {
     "elapsed": 2363,
     "status": "ok",
     "timestamp": 1558480573544,
     "user": {
      "displayName": "MARCOS JUNIOR",
      "photoUrl": "",
      "userId": "02126454598504023629"
     },
     "user_tz": 180
    },
    "id": "aeH1ZBllXgOK",
    "outputId": "2cff7ea5-9d72-4104-e59a-11a2fb72aded"
   },
   "outputs": [
    {
     "data": {
      "text/plain": [
       "Nº de Vítimas        54\n",
       "Nº de Ocorrências    48\n",
       "Name: grandeza, dtype: int64"
      ]
     },
     "execution_count": 26,
     "metadata": {},
     "output_type": "execute_result"
    }
   ],
   "source": [
    "# checking value counts\n",
    "homicides['grandeza'].value_counts(dropna=False)"
   ]
  },
  {
   "cell_type": "markdown",
   "metadata": {
    "colab_type": "text",
    "id": "gP4UfUOQgHh-"
   },
   "source": [
    "#### Exploring Value Counts"
   ]
  },
  {
   "cell_type": "code",
   "execution_count": 27,
   "metadata": {
    "colab": {
     "base_uri": "https://localhost:8080/",
     "height": 1268
    },
    "colab_type": "code",
    "executionInfo": {
     "elapsed": 2650,
     "status": "ok",
     "timestamp": 1558480573859,
     "user": {
      "displayName": "MARCOS JUNIOR",
      "photoUrl": "",
      "userId": "02126454598504023629"
     },
     "user_tz": 180
    },
    "id": "INo76P1BgKAA",
    "outputId": "85540520-fe28-42ec-e4ad-ac7dfd02badd"
   },
   "outputs": [
    {
     "name": "stdout",
     "output_type": "stream",
     "text": [
      ">>>>>>>>>>>>>>>>>>>>>>>>>>>>>>>>>>>>>>>>>>>>>>>>>>>\n",
      "Column [unidade_federativa]\n",
      "27 unique values\n",
      "0 NaN values\n",
      "\n",
      "Sergipe                2\n",
      "Rio Grande do Norte    2\n",
      "Goiás                  2\n",
      "Paraíba                4\n",
      "Rondônia               4\n",
      "Distrito Federal       4\n",
      "Ceará                  4\n",
      "Santa Catarina         4\n",
      "Mato Grosso            4\n",
      "Roraima                4\n",
      "Name: unidade_federativa, dtype: int64\n",
      "<<<<<<<<<<<<<<<<<<<<<<<<<<<<<<<<<<<<<<<<<<<<<<<<<<<\n",
      "\n",
      ">>>>>>>>>>>>>>>>>>>>>>>>>>>>>>>>>>>>>>>>>>>>>>>>>>>\n",
      "Column [grandeza]\n",
      "\n",
      "Nº de Ocorrências    48\n",
      "Nº de Vítimas        54\n",
      "Name: grandeza, dtype: int64\n",
      "<<<<<<<<<<<<<<<<<<<<<<<<<<<<<<<<<<<<<<<<<<<<<<<<<<<\n",
      "\n",
      ">>>>>>>>>>>>>>>>>>>>>>>>>>>>>>>>>>>>>>>>>>>>>>>>>>>\n",
      "Column [medida]\n",
      "\n",
      "Ns. Absolutos    51\n",
      "Taxas            51\n",
      "Name: medida, dtype: int64\n",
      "<<<<<<<<<<<<<<<<<<<<<<<<<<<<<<<<<<<<<<<<<<<<<<<<<<<\n",
      "\n",
      ">>>>>>>>>>>>>>>>>>>>>>>>>>>>>>>>>>>>>>>>>>>>>>>>>>>\n",
      "Column [2016]\n",
      "92 unique values\n",
      "0 NaN values\n",
      "\n",
      "1696.000000    1\n",
      "39.040187      1\n",
      "5964.000000    1\n",
      "48.437568      1\n",
      "4116.000000    1\n",
      "25.304567      1\n",
      "1177.000000    1\n",
      "30.307774      1\n",
      "1627.000000    1\n",
      "4277.000000    1\n",
      "Name: 2016, dtype: int64\n",
      "<<<<<<<<<<<<<<<<<<<<<<<<<<<<<<<<<<<<<<<<<<<<<<<<<<<\n",
      "\n",
      ">>>>>>>>>>>>>>>>>>>>>>>>>>>>>>>>>>>>>>>>>>>>>>>>>>>\n",
      "Column [2017]\n",
      "94 unique values\n",
      "0 NaN values\n",
      "\n",
      "1703.000000    1\n",
      "3818.000000    1\n",
      "39.154230      1\n",
      "48.992271      1\n",
      "1207.000000    1\n",
      "52.580467      1\n",
      "1617.000000    1\n",
      "34.981959      1\n",
      "7.770286       1\n",
      "1121.000000    1\n",
      "Name: 2017, dtype: int64\n",
      "<<<<<<<<<<<<<<<<<<<<<<<<<<<<<<<<<<<<<<<<<<<<<<<<<<<\n",
      "\n"
     ]
    }
   ],
   "source": [
    "# applying function\n",
    "check_value_counts(homicides, values_limit=15, print_size=10)"
   ]
  },
  {
   "cell_type": "markdown",
   "metadata": {
    "colab_type": "text",
    "id": "VqCczeyPjryK"
   },
   "source": [
    "### Homicides and Femicides per FU"
   ]
  },
  {
   "cell_type": "markdown",
   "metadata": {
    "colab_type": "text",
    "id": "iKpom8Rjj-d_"
   },
   "source": [
    "#### Initial Exploration"
   ]
  },
  {
   "cell_type": "code",
   "execution_count": 28,
   "metadata": {
    "colab": {},
    "colab_type": "code",
    "id": "-jJUfTmmj-NU"
   },
   "outputs": [],
   "source": [
    "# reading the dataset\n",
    "femicides = read_csv_master( datasets['homi-feminicidios-por-uf'] )\n",
    "\n",
    "# making a backup of the original dataset\n",
    "femicides_raw = femicides.copy()"
   ]
  },
  {
   "cell_type": "code",
   "execution_count": 29,
   "metadata": {
    "colab": {
     "base_uri": "https://localhost:8080/",
     "height": 0
    },
    "colab_type": "code",
    "executionInfo": {
     "elapsed": 2618,
     "status": "ok",
     "timestamp": 1558480573867,
     "user": {
      "displayName": "MARCOS JUNIOR",
      "photoUrl": "",
      "userId": "02126454598504023629"
     },
     "user_tz": 180
    },
    "id": "GuFUxGwOkSMF",
    "outputId": "5f0048c8-63c9-45b1-b3f6-f7ae961414f3"
   },
   "outputs": [
    {
     "data": {
      "text/html": [
       "<div>\n",
       "<style scoped>\n",
       "    .dataframe tbody tr th:only-of-type {\n",
       "        vertical-align: middle;\n",
       "    }\n",
       "\n",
       "    .dataframe tbody tr th {\n",
       "        vertical-align: top;\n",
       "    }\n",
       "\n",
       "    .dataframe thead th {\n",
       "        text-align: right;\n",
       "    }\n",
       "</style>\n",
       "<table border=\"1\" class=\"dataframe\">\n",
       "  <thead>\n",
       "    <tr style=\"text-align: right;\">\n",
       "      <th></th>\n",
       "      <th>un_federativa</th>\n",
       "      <th>grandeza</th>\n",
       "      <th>medida</th>\n",
       "      <th>2016</th>\n",
       "      <th>2017</th>\n",
       "    </tr>\n",
       "  </thead>\n",
       "  <tbody>\n",
       "    <tr>\n",
       "      <th>0</th>\n",
       "      <td>Brasil</td>\n",
       "      <td>Homicidios (2)</td>\n",
       "      <td>Ns. Absolutos</td>\n",
       "      <td>4245</td>\n",
       "      <td>4539</td>\n",
       "    </tr>\n",
       "    <tr>\n",
       "      <th>1</th>\n",
       "      <td>Acre</td>\n",
       "      <td>Homicidios (2)</td>\n",
       "      <td>Ns. Absolutos</td>\n",
       "      <td>26</td>\n",
       "      <td>34,00</td>\n",
       "    </tr>\n",
       "    <tr>\n",
       "      <th>2</th>\n",
       "      <td>Alagoas (4)</td>\n",
       "      <td>Homicidios (2)</td>\n",
       "      <td>Ns. Absolutos</td>\n",
       "      <td>54</td>\n",
       "      <td>74,00</td>\n",
       "    </tr>\n",
       "    <tr>\n",
       "      <th>3</th>\n",
       "      <td>Amapá</td>\n",
       "      <td>Homicidios (2)</td>\n",
       "      <td>Ns. Absolutos</td>\n",
       "      <td>20</td>\n",
       "      <td>23,00</td>\n",
       "    </tr>\n",
       "    <tr>\n",
       "      <th>4</th>\n",
       "      <td>Amazonas</td>\n",
       "      <td>Homicidios (2)</td>\n",
       "      <td>Ns. Absolutos</td>\n",
       "      <td>68</td>\n",
       "      <td>73,00</td>\n",
       "    </tr>\n",
       "  </tbody>\n",
       "</table>\n",
       "</div>"
      ],
      "text/plain": [
       "  un_federativa        grandeza         medida  2016     2017\n",
       "0        Brasil  Homicidios (2)  Ns. Absolutos  4245     4539\n",
       "1          Acre  Homicidios (2)  Ns. Absolutos    26   34,00 \n",
       "2   Alagoas (4)  Homicidios (2)  Ns. Absolutos    54   74,00 \n",
       "3         Amapá  Homicidios (2)  Ns. Absolutos    20   23,00 \n",
       "4      Amazonas  Homicidios (2)  Ns. Absolutos    68   73,00 "
      ]
     },
     "execution_count": 29,
     "metadata": {},
     "output_type": "execute_result"
    }
   ],
   "source": [
    "# exploring\n",
    "femicides.head(5)"
   ]
  },
  {
   "cell_type": "code",
   "execution_count": 30,
   "metadata": {
    "colab": {
     "base_uri": "https://localhost:8080/",
     "height": 0
    },
    "colab_type": "code",
    "executionInfo": {
     "elapsed": 2606,
     "status": "ok",
     "timestamp": 1558480573871,
     "user": {
      "displayName": "MARCOS JUNIOR",
      "photoUrl": "",
      "userId": "02126454598504023629"
     },
     "user_tz": 180
    },
    "id": "oTWkwlDckWdU",
    "outputId": "3981b217-c851-4f2c-a578-a8faa659ab27"
   },
   "outputs": [
    {
     "data": {
      "text/html": [
       "<div>\n",
       "<style scoped>\n",
       "    .dataframe tbody tr th:only-of-type {\n",
       "        vertical-align: middle;\n",
       "    }\n",
       "\n",
       "    .dataframe tbody tr th {\n",
       "        vertical-align: top;\n",
       "    }\n",
       "\n",
       "    .dataframe thead th {\n",
       "        text-align: right;\n",
       "    }\n",
       "</style>\n",
       "<table border=\"1\" class=\"dataframe\">\n",
       "  <thead>\n",
       "    <tr style=\"text-align: right;\">\n",
       "      <th></th>\n",
       "      <th>un_federativa</th>\n",
       "      <th>grandeza</th>\n",
       "      <th>medida</th>\n",
       "      <th>2016</th>\n",
       "      <th>2017</th>\n",
       "    </tr>\n",
       "  </thead>\n",
       "  <tbody>\n",
       "    <tr>\n",
       "      <th>107</th>\n",
       "      <td>Roraima</td>\n",
       "      <td>Feminicídios</td>\n",
       "      <td>Taxas</td>\n",
       "      <td>1,19672098450246</td>\n",
       "      <td>1,1768397928762</td>\n",
       "    </tr>\n",
       "    <tr>\n",
       "      <th>108</th>\n",
       "      <td>Santa Catarina</td>\n",
       "      <td>Feminicídios</td>\n",
       "      <td>Taxas</td>\n",
       "      <td>1,56749502973451</td>\n",
       "      <td>1,37533018669248</td>\n",
       "    </tr>\n",
       "    <tr>\n",
       "      <th>109</th>\n",
       "      <td>São Paulo (4)</td>\n",
       "      <td>Feminicídios</td>\n",
       "      <td>Taxas</td>\n",
       "      <td>0,264156371062039</td>\n",
       "      <td>0,471866922692338</td>\n",
       "    </tr>\n",
       "    <tr>\n",
       "      <th>110</th>\n",
       "      <td>Sergipe</td>\n",
       "      <td>Feminicídios</td>\n",
       "      <td>Taxas</td>\n",
       "      <td>...</td>\n",
       "      <td>0,512114932247195</td>\n",
       "    </tr>\n",
       "    <tr>\n",
       "      <th>111</th>\n",
       "      <td>Tocantins</td>\n",
       "      <td>Feminicídios</td>\n",
       "      <td>Taxas</td>\n",
       "      <td>5,02782504227342</td>\n",
       "      <td>4,18227942070202</td>\n",
       "    </tr>\n",
       "  </tbody>\n",
       "</table>\n",
       "</div>"
      ],
      "text/plain": [
       "      un_federativa      grandeza medida               2016               2017\n",
       "107         Roraima  Feminicídios  Taxas   1,19672098450246    1,1768397928762\n",
       "108  Santa Catarina  Feminicídios  Taxas   1,56749502973451   1,37533018669248\n",
       "109   São Paulo (4)  Feminicídios  Taxas  0,264156371062039  0,471866922692338\n",
       "110         Sergipe  Feminicídios  Taxas                ...  0,512114932247195\n",
       "111       Tocantins  Feminicídios  Taxas   5,02782504227342   4,18227942070202"
      ]
     },
     "execution_count": 30,
     "metadata": {},
     "output_type": "execute_result"
    }
   ],
   "source": [
    "# exploring\n",
    "femicides.tail(5)"
   ]
  },
  {
   "cell_type": "code",
   "execution_count": 31,
   "metadata": {
    "colab": {
     "base_uri": "https://localhost:8080/",
     "height": 0
    },
    "colab_type": "code",
    "executionInfo": {
     "elapsed": 2578,
     "status": "ok",
     "timestamp": 1558480573873,
     "user": {
      "displayName": "MARCOS JUNIOR",
      "photoUrl": "",
      "userId": "02126454598504023629"
     },
     "user_tz": 180
    },
    "id": "jl6mSG4ckZMK",
    "outputId": "559022d4-bf59-43b0-9152-0154c5f05ba4"
   },
   "outputs": [
    {
     "data": {
      "text/html": [
       "<div>\n",
       "<style scoped>\n",
       "    .dataframe tbody tr th:only-of-type {\n",
       "        vertical-align: middle;\n",
       "    }\n",
       "\n",
       "    .dataframe tbody tr th {\n",
       "        vertical-align: top;\n",
       "    }\n",
       "\n",
       "    .dataframe thead th {\n",
       "        text-align: right;\n",
       "    }\n",
       "</style>\n",
       "<table border=\"1\" class=\"dataframe\">\n",
       "  <thead>\n",
       "    <tr style=\"text-align: right;\">\n",
       "      <th></th>\n",
       "      <th>un_federativa</th>\n",
       "      <th>grandeza</th>\n",
       "      <th>medida</th>\n",
       "      <th>2016</th>\n",
       "      <th>2017</th>\n",
       "    </tr>\n",
       "  </thead>\n",
       "  <tbody>\n",
       "    <tr>\n",
       "      <th>78</th>\n",
       "      <td>Rondônia</td>\n",
       "      <td>Feminicídios</td>\n",
       "      <td>Ns. Absolutos</td>\n",
       "      <td>37</td>\n",
       "      <td>54</td>\n",
       "    </tr>\n",
       "    <tr>\n",
       "      <th>102</th>\n",
       "      <td>Piauí</td>\n",
       "      <td>Feminicídios</td>\n",
       "      <td>Taxas</td>\n",
       "      <td>1,88686824912017</td>\n",
       "      <td>1,57720191035548</td>\n",
       "    </tr>\n",
       "    <tr>\n",
       "      <th>108</th>\n",
       "      <td>Santa Catarina</td>\n",
       "      <td>Feminicídios</td>\n",
       "      <td>Taxas</td>\n",
       "      <td>1,56749502973451</td>\n",
       "      <td>1,37533018669248</td>\n",
       "    </tr>\n",
       "    <tr>\n",
       "      <th>3</th>\n",
       "      <td>Amapá</td>\n",
       "      <td>Homicidios (2)</td>\n",
       "      <td>Ns. Absolutos</td>\n",
       "      <td>20</td>\n",
       "      <td>23,00</td>\n",
       "    </tr>\n",
       "    <tr>\n",
       "      <th>79</th>\n",
       "      <td>Roraima</td>\n",
       "      <td>Feminicídios</td>\n",
       "      <td>Ns. Absolutos</td>\n",
       "      <td>3</td>\n",
       "      <td>3</td>\n",
       "    </tr>\n",
       "    <tr>\n",
       "      <th>36</th>\n",
       "      <td>Espírito Santo</td>\n",
       "      <td>Homicidios (2)</td>\n",
       "      <td>Taxas</td>\n",
       "      <td>4,9721808989904</td>\n",
       "      <td>6,7066582212452</td>\n",
       "    </tr>\n",
       "    <tr>\n",
       "      <th>86</th>\n",
       "      <td>Alagoas (4)</td>\n",
       "      <td>Feminicídios</td>\n",
       "      <td>Taxas</td>\n",
       "      <td>2,08540425561495</td>\n",
       "      <td>1,78474275236119</td>\n",
       "    </tr>\n",
       "    <tr>\n",
       "      <th>58</th>\n",
       "      <td>Alagoas (4)</td>\n",
       "      <td>Feminicídios</td>\n",
       "      <td>Ns. Absolutos</td>\n",
       "      <td>36</td>\n",
       "      <td>31</td>\n",
       "    </tr>\n",
       "    <tr>\n",
       "      <th>5</th>\n",
       "      <td>Bahia</td>\n",
       "      <td>Homicidios (2)</td>\n",
       "      <td>Ns. Absolutos</td>\n",
       "      <td>443</td>\n",
       "      <td>474,00</td>\n",
       "    </tr>\n",
       "    <tr>\n",
       "      <th>71</th>\n",
       "      <td>Paraíba</td>\n",
       "      <td>Feminicídios</td>\n",
       "      <td>Ns. Absolutos</td>\n",
       "      <td>24</td>\n",
       "      <td>22</td>\n",
       "    </tr>\n",
       "  </tbody>\n",
       "</table>\n",
       "</div>"
      ],
      "text/plain": [
       "      un_federativa        grandeza         medida              2016  \\\n",
       "78         Rondônia    Feminicídios  Ns. Absolutos                37   \n",
       "102           Piauí    Feminicídios          Taxas  1,88686824912017   \n",
       "108  Santa Catarina    Feminicídios          Taxas  1,56749502973451   \n",
       "3             Amapá  Homicidios (2)  Ns. Absolutos                20   \n",
       "79          Roraima    Feminicídios  Ns. Absolutos                 3   \n",
       "36   Espírito Santo  Homicidios (2)          Taxas   4,9721808989904   \n",
       "86      Alagoas (4)    Feminicídios          Taxas  2,08540425561495   \n",
       "58      Alagoas (4)    Feminicídios  Ns. Absolutos                36   \n",
       "5             Bahia  Homicidios (2)  Ns. Absolutos               443   \n",
       "71          Paraíba    Feminicídios  Ns. Absolutos                24   \n",
       "\n",
       "                 2017  \n",
       "78                 54  \n",
       "102  1,57720191035548  \n",
       "108  1,37533018669248  \n",
       "3              23,00   \n",
       "79                  3  \n",
       "36    6,7066582212452  \n",
       "86   1,78474275236119  \n",
       "58                 31  \n",
       "5             474,00   \n",
       "71                 22  "
      ]
     },
     "execution_count": 31,
     "metadata": {},
     "output_type": "execute_result"
    }
   ],
   "source": [
    "# exploring\n",
    "femicides.sample(10)"
   ]
  },
  {
   "cell_type": "markdown",
   "metadata": {
    "colab_type": "text",
    "id": "jldyU4X2kqvV"
   },
   "source": [
    "**Note**\n",
    "\n",
    "We can follow the same steps used to clean the previous dataset."
   ]
  },
  {
   "cell_type": "markdown",
   "metadata": {
    "colab_type": "text",
    "id": "zPprCtKOk0vv"
   },
   "source": [
    "#### Cleaning Dataset"
   ]
  },
  {
   "cell_type": "markdown",
   "metadata": {
    "colab_type": "text",
    "id": "gZYkZskel1rh"
   },
   "source": [
    "The following code cells perform the cleaning of the dataset with the same steps applyied to previous one."
   ]
  },
  {
   "cell_type": "code",
   "execution_count": 32,
   "metadata": {
    "colab": {},
    "colab_type": "code",
    "id": "ByYqq81Hk3hW"
   },
   "outputs": [],
   "source": [
    "# replacing dots for NaN\n",
    "femicides.replace(to_replace='...', value=np.nan, inplace=True)"
   ]
  },
  {
   "cell_type": "code",
   "execution_count": 33,
   "metadata": {
    "colab": {},
    "colab_type": "code",
    "id": "ofKFC9ihk94n"
   },
   "outputs": [],
   "source": [
    "# mask to rows about Brazil\n",
    "mask_brazil = femicides.un_federativa == 'Brasil'\n",
    "\n",
    "# mask to rows with null values\n",
    "mask_null = femicides['2016'].isnull() | femicides['2016'].isnull()\n",
    "\n",
    "# merging the masks\n",
    "mask_to_drop = mask_brazil | mask_null\n",
    "\n",
    "# list of indexes to be dropped\n",
    "to_drop = femicides[mask_to_drop].index.tolist()\n",
    "\n",
    "# dropping the selected rows\n",
    "femicides.drop(index=to_drop, inplace=True)"
   ]
  },
  {
   "cell_type": "code",
   "execution_count": 34,
   "metadata": {
    "colab": {},
    "colab_type": "code",
    "id": "XnWH5pCjlSQG"
   },
   "outputs": [],
   "source": [
    "# converting columns to string\n",
    "for col in ['2016', '2017']:\n",
    "  femicides[col] = femicides[col].str.replace(',', '.').apply(float)"
   ]
  },
  {
   "cell_type": "code",
   "execution_count": 35,
   "metadata": {
    "colab": {},
    "colab_type": "code",
    "id": "V2lqPUZ-lXm6"
   },
   "outputs": [],
   "source": [
    "# list of columns to remove marks\n",
    "cols_clean_marks = ['un_federativa', 'grandeza', 'medida']\n",
    "\n",
    "# cleaning marks for each column\n",
    "for col in cols_clean_marks:\n",
    "  \n",
    "  # applying regex replacement\n",
    "  femicides[col] = femicides[col].str.replace('\\(\\d+\\)', '', regex=True)\n",
    "\n",
    "  # stripping white spaces from the values\n",
    "  femicides[col] = femicides[col].str.strip()"
   ]
  },
  {
   "cell_type": "code",
   "execution_count": 36,
   "metadata": {
    "colab": {
     "base_uri": "https://localhost:8080/",
     "height": 206
    },
    "colab_type": "code",
    "executionInfo": {
     "elapsed": 2517,
     "status": "ok",
     "timestamp": 1558480573909,
     "user": {
      "displayName": "MARCOS JUNIOR",
      "photoUrl": "",
      "userId": "02126454598504023629"
     },
     "user_tz": 180
    },
    "id": "6XBTcX_Blhdl",
    "outputId": "78e6bdb4-5eac-4e9b-d856-f51de95a2c63"
   },
   "outputs": [
    {
     "data": {
      "text/html": [
       "<div>\n",
       "<style scoped>\n",
       "    .dataframe tbody tr th:only-of-type {\n",
       "        vertical-align: middle;\n",
       "    }\n",
       "\n",
       "    .dataframe tbody tr th {\n",
       "        vertical-align: top;\n",
       "    }\n",
       "\n",
       "    .dataframe thead th {\n",
       "        text-align: right;\n",
       "    }\n",
       "</style>\n",
       "<table border=\"1\" class=\"dataframe\">\n",
       "  <thead>\n",
       "    <tr style=\"text-align: right;\">\n",
       "      <th></th>\n",
       "      <th>un_federativa</th>\n",
       "      <th>grandeza</th>\n",
       "      <th>medida</th>\n",
       "      <th>2016</th>\n",
       "      <th>2017</th>\n",
       "    </tr>\n",
       "  </thead>\n",
       "  <tbody>\n",
       "    <tr>\n",
       "      <th>1</th>\n",
       "      <td>Acre</td>\n",
       "      <td>Homicidios</td>\n",
       "      <td>Ns. Absolutos</td>\n",
       "      <td>26.0</td>\n",
       "      <td>34.0</td>\n",
       "    </tr>\n",
       "    <tr>\n",
       "      <th>2</th>\n",
       "      <td>Alagoas</td>\n",
       "      <td>Homicidios</td>\n",
       "      <td>Ns. Absolutos</td>\n",
       "      <td>54.0</td>\n",
       "      <td>74.0</td>\n",
       "    </tr>\n",
       "    <tr>\n",
       "      <th>3</th>\n",
       "      <td>Amapá</td>\n",
       "      <td>Homicidios</td>\n",
       "      <td>Ns. Absolutos</td>\n",
       "      <td>20.0</td>\n",
       "      <td>23.0</td>\n",
       "    </tr>\n",
       "    <tr>\n",
       "      <th>4</th>\n",
       "      <td>Amazonas</td>\n",
       "      <td>Homicidios</td>\n",
       "      <td>Ns. Absolutos</td>\n",
       "      <td>68.0</td>\n",
       "      <td>73.0</td>\n",
       "    </tr>\n",
       "    <tr>\n",
       "      <th>5</th>\n",
       "      <td>Bahia</td>\n",
       "      <td>Homicidios</td>\n",
       "      <td>Ns. Absolutos</td>\n",
       "      <td>443.0</td>\n",
       "      <td>474.0</td>\n",
       "    </tr>\n",
       "  </tbody>\n",
       "</table>\n",
       "</div>"
      ],
      "text/plain": [
       "  un_federativa    grandeza         medida   2016   2017\n",
       "1          Acre  Homicidios  Ns. Absolutos   26.0   34.0\n",
       "2       Alagoas  Homicidios  Ns. Absolutos   54.0   74.0\n",
       "3         Amapá  Homicidios  Ns. Absolutos   20.0   23.0\n",
       "4      Amazonas  Homicidios  Ns. Absolutos   68.0   73.0\n",
       "5         Bahia  Homicidios  Ns. Absolutos  443.0  474.0"
      ]
     },
     "execution_count": 36,
     "metadata": {},
     "output_type": "execute_result"
    }
   ],
   "source": [
    "# checking the result\n",
    "femicides.head(5)"
   ]
  },
  {
   "cell_type": "code",
   "execution_count": 37,
   "metadata": {
    "colab": {
     "base_uri": "https://localhost:8080/",
     "height": 206
    },
    "colab_type": "code",
    "executionInfo": {
     "elapsed": 3150,
     "status": "ok",
     "timestamp": 1558480574577,
     "user": {
      "displayName": "MARCOS JUNIOR",
      "photoUrl": "",
      "userId": "02126454598504023629"
     },
     "user_tz": 180
    },
    "id": "-yQfEoMBllmU",
    "outputId": "177f6a31-e93c-4a80-ddde-1bd74a8de8b7"
   },
   "outputs": [
    {
     "data": {
      "text/html": [
       "<div>\n",
       "<style scoped>\n",
       "    .dataframe tbody tr th:only-of-type {\n",
       "        vertical-align: middle;\n",
       "    }\n",
       "\n",
       "    .dataframe tbody tr th {\n",
       "        vertical-align: top;\n",
       "    }\n",
       "\n",
       "    .dataframe thead th {\n",
       "        text-align: right;\n",
       "    }\n",
       "</style>\n",
       "<table border=\"1\" class=\"dataframe\">\n",
       "  <thead>\n",
       "    <tr style=\"text-align: right;\">\n",
       "      <th></th>\n",
       "      <th>un_federativa</th>\n",
       "      <th>grandeza</th>\n",
       "      <th>medida</th>\n",
       "      <th>2016</th>\n",
       "      <th>2017</th>\n",
       "    </tr>\n",
       "  </thead>\n",
       "  <tbody>\n",
       "    <tr>\n",
       "      <th>106</th>\n",
       "      <td>Rondônia</td>\n",
       "      <td>Feminicídios</td>\n",
       "      <td>Taxas</td>\n",
       "      <td>4.222120</td>\n",
       "      <td>6.095125</td>\n",
       "    </tr>\n",
       "    <tr>\n",
       "      <th>107</th>\n",
       "      <td>Roraima</td>\n",
       "      <td>Feminicídios</td>\n",
       "      <td>Taxas</td>\n",
       "      <td>1.196721</td>\n",
       "      <td>1.176840</td>\n",
       "    </tr>\n",
       "    <tr>\n",
       "      <th>108</th>\n",
       "      <td>Santa Catarina</td>\n",
       "      <td>Feminicídios</td>\n",
       "      <td>Taxas</td>\n",
       "      <td>1.567495</td>\n",
       "      <td>1.375330</td>\n",
       "    </tr>\n",
       "    <tr>\n",
       "      <th>109</th>\n",
       "      <td>São Paulo</td>\n",
       "      <td>Feminicídios</td>\n",
       "      <td>Taxas</td>\n",
       "      <td>0.264156</td>\n",
       "      <td>0.471867</td>\n",
       "    </tr>\n",
       "    <tr>\n",
       "      <th>111</th>\n",
       "      <td>Tocantins</td>\n",
       "      <td>Feminicídios</td>\n",
       "      <td>Taxas</td>\n",
       "      <td>5.027825</td>\n",
       "      <td>4.182279</td>\n",
       "    </tr>\n",
       "  </tbody>\n",
       "</table>\n",
       "</div>"
      ],
      "text/plain": [
       "      un_federativa      grandeza medida      2016      2017\n",
       "106        Rondônia  Feminicídios  Taxas  4.222120  6.095125\n",
       "107         Roraima  Feminicídios  Taxas  1.196721  1.176840\n",
       "108  Santa Catarina  Feminicídios  Taxas  1.567495  1.375330\n",
       "109       São Paulo  Feminicídios  Taxas  0.264156  0.471867\n",
       "111       Tocantins  Feminicídios  Taxas  5.027825  4.182279"
      ]
     },
     "execution_count": 37,
     "metadata": {},
     "output_type": "execute_result"
    }
   ],
   "source": [
    "# checking the result\n",
    "femicides.tail()"
   ]
  },
  {
   "cell_type": "code",
   "execution_count": 38,
   "metadata": {
    "colab": {
     "base_uri": "https://localhost:8080/",
     "height": 363
    },
    "colab_type": "code",
    "executionInfo": {
     "elapsed": 3124,
     "status": "ok",
     "timestamp": 1558480574581,
     "user": {
      "displayName": "MARCOS JUNIOR",
      "photoUrl": "",
      "userId": "02126454598504023629"
     },
     "user_tz": 180
    },
    "id": "ZfCv6peWlnFV",
    "outputId": "c580adc5-71d8-4761-bf5c-8ec76df80c49"
   },
   "outputs": [
    {
     "data": {
      "text/html": [
       "<div>\n",
       "<style scoped>\n",
       "    .dataframe tbody tr th:only-of-type {\n",
       "        vertical-align: middle;\n",
       "    }\n",
       "\n",
       "    .dataframe tbody tr th {\n",
       "        vertical-align: top;\n",
       "    }\n",
       "\n",
       "    .dataframe thead th {\n",
       "        text-align: right;\n",
       "    }\n",
       "</style>\n",
       "<table border=\"1\" class=\"dataframe\">\n",
       "  <thead>\n",
       "    <tr style=\"text-align: right;\">\n",
       "      <th></th>\n",
       "      <th>un_federativa</th>\n",
       "      <th>grandeza</th>\n",
       "      <th>medida</th>\n",
       "      <th>2016</th>\n",
       "      <th>2017</th>\n",
       "    </tr>\n",
       "  </thead>\n",
       "  <tbody>\n",
       "    <tr>\n",
       "      <th>5</th>\n",
       "      <td>Bahia</td>\n",
       "      <td>Homicidios</td>\n",
       "      <td>Ns. Absolutos</td>\n",
       "      <td>443.000000</td>\n",
       "      <td>474.000000</td>\n",
       "    </tr>\n",
       "    <tr>\n",
       "      <th>54</th>\n",
       "      <td>Sergipe</td>\n",
       "      <td>Homicidios</td>\n",
       "      <td>Taxas</td>\n",
       "      <td>4.399787</td>\n",
       "      <td>5.889322</td>\n",
       "    </tr>\n",
       "    <tr>\n",
       "      <th>40</th>\n",
       "      <td>Mato Grosso do Sul</td>\n",
       "      <td>Homicidios</td>\n",
       "      <td>Taxas</td>\n",
       "      <td>7.775027</td>\n",
       "      <td>6.206132</td>\n",
       "    </tr>\n",
       "    <tr>\n",
       "      <th>67</th>\n",
       "      <td>Mato Grosso</td>\n",
       "      <td>Feminicídios</td>\n",
       "      <td>Ns. Absolutos</td>\n",
       "      <td>49.000000</td>\n",
       "      <td>76.000000</td>\n",
       "    </tr>\n",
       "    <tr>\n",
       "      <th>9</th>\n",
       "      <td>Goiás</td>\n",
       "      <td>Homicidios</td>\n",
       "      <td>Ns. Absolutos</td>\n",
       "      <td>198.000000</td>\n",
       "      <td>197.000000</td>\n",
       "    </tr>\n",
       "    <tr>\n",
       "      <th>91</th>\n",
       "      <td>Distrito Federal</td>\n",
       "      <td>Feminicídios</td>\n",
       "      <td>Taxas</td>\n",
       "      <td>1.275880</td>\n",
       "      <td>1.186181</td>\n",
       "    </tr>\n",
       "    <tr>\n",
       "      <th>83</th>\n",
       "      <td>Tocantins</td>\n",
       "      <td>Feminicídios</td>\n",
       "      <td>Ns. Absolutos</td>\n",
       "      <td>38.000000</td>\n",
       "      <td>32.000000</td>\n",
       "    </tr>\n",
       "    <tr>\n",
       "      <th>71</th>\n",
       "      <td>Paraíba</td>\n",
       "      <td>Feminicídios</td>\n",
       "      <td>Ns. Absolutos</td>\n",
       "      <td>24.000000</td>\n",
       "      <td>22.000000</td>\n",
       "    </tr>\n",
       "    <tr>\n",
       "      <th>73</th>\n",
       "      <td>Pernambuco</td>\n",
       "      <td>Feminicídios</td>\n",
       "      <td>Ns. Absolutos</td>\n",
       "      <td>112.000000</td>\n",
       "      <td>76.000000</td>\n",
       "    </tr>\n",
       "    <tr>\n",
       "      <th>89</th>\n",
       "      <td>Bahia</td>\n",
       "      <td>Feminicídios</td>\n",
       "      <td>Taxas</td>\n",
       "      <td>0.232776</td>\n",
       "      <td>0.951572</td>\n",
       "    </tr>\n",
       "  </tbody>\n",
       "</table>\n",
       "</div>"
      ],
      "text/plain": [
       "         un_federativa      grandeza         medida        2016        2017\n",
       "5                Bahia    Homicidios  Ns. Absolutos  443.000000  474.000000\n",
       "54             Sergipe    Homicidios          Taxas    4.399787    5.889322\n",
       "40  Mato Grosso do Sul    Homicidios          Taxas    7.775027    6.206132\n",
       "67         Mato Grosso  Feminicídios  Ns. Absolutos   49.000000   76.000000\n",
       "9                Goiás    Homicidios  Ns. Absolutos  198.000000  197.000000\n",
       "91    Distrito Federal  Feminicídios          Taxas    1.275880    1.186181\n",
       "83           Tocantins  Feminicídios  Ns. Absolutos   38.000000   32.000000\n",
       "71             Paraíba  Feminicídios  Ns. Absolutos   24.000000   22.000000\n",
       "73          Pernambuco  Feminicídios  Ns. Absolutos  112.000000   76.000000\n",
       "89               Bahia  Feminicídios          Taxas    0.232776    0.951572"
      ]
     },
     "execution_count": 38,
     "metadata": {},
     "output_type": "execute_result"
    }
   ],
   "source": [
    "# checking the result\n",
    "femicides.sample(10)"
   ]
  },
  {
   "cell_type": "markdown",
   "metadata": {
    "colab_type": "text",
    "id": "RXQsYbsYnPYs"
   },
   "source": [
    "**Note**\n",
    "\n",
    "We conclude we can easly clean our datasets by performing similar steps. This will be very useful when working with the other datasets."
   ]
  },
  {
   "cell_type": "markdown",
   "metadata": {
    "colab_type": "text",
    "id": "-aniZeOQm05N"
   },
   "source": [
    "#### Exploring Value Counts"
   ]
  },
  {
   "cell_type": "code",
   "execution_count": 39,
   "metadata": {
    "colab": {
     "base_uri": "https://localhost:8080/",
     "height": 1714
    },
    "colab_type": "code",
    "executionInfo": {
     "elapsed": 3100,
     "status": "ok",
     "timestamp": 1558480574583,
     "user": {
      "displayName": "MARCOS JUNIOR",
      "photoUrl": "",
      "userId": "02126454598504023629"
     },
     "user_tz": 180
    },
    "id": "-bS2KVd-m3sE",
    "outputId": "65e82a1a-97e5-40d9-c7f7-4a91aec3bb01"
   },
   "outputs": [
    {
     "name": "stdout",
     "output_type": "stream",
     "text": [
      ">>>>>>>>>>>>>>>>>>>>>>>>>>>>>>>>>>>>>>>>>>>>>>>>>>>\n",
      "Column [un_federativa]\n",
      "\n",
      "Maranhão               2\n",
      "Ceará                  2\n",
      "Amapá                  2\n",
      "Sergipe                2\n",
      "Santa Catarina         4\n",
      "Paraíba                4\n",
      "Rondônia               4\n",
      "Distrito Federal       4\n",
      "Rio Grande do Norte    4\n",
      "Pará                   4\n",
      "São Paulo              4\n",
      "Mato Grosso            4\n",
      "Roraima                4\n",
      "Goiás                  4\n",
      "Pernambuco             4\n",
      "Paraná                 4\n",
      "Piauí                  4\n",
      "Minas Gerais           4\n",
      "Amazonas               4\n",
      "Mato Grosso do Sul     4\n",
      "Bahia                  4\n",
      "Rio de Janeiro         4\n",
      "Acre                   4\n",
      "Rio Grande do Sul      4\n",
      "Alagoas                4\n",
      "Espírito Santo         4\n",
      "Tocantins              4\n",
      "Name: un_federativa, dtype: int64\n",
      "<<<<<<<<<<<<<<<<<<<<<<<<<<<<<<<<<<<<<<<<<<<<<<<<<<<\n",
      "\n",
      ">>>>>>>>>>>>>>>>>>>>>>>>>>>>>>>>>>>>>>>>>>>>>>>>>>>\n",
      "Column [grandeza]\n",
      "\n",
      "Feminicídios    46\n",
      "Homicidios      54\n",
      "Name: grandeza, dtype: int64\n",
      "<<<<<<<<<<<<<<<<<<<<<<<<<<<<<<<<<<<<<<<<<<<<<<<<<<<\n",
      "\n",
      ">>>>>>>>>>>>>>>>>>>>>>>>>>>>>>>>>>>>>>>>>>>>>>>>>>>\n",
      "Column [medida]\n",
      "\n",
      "Ns. Absolutos    50\n",
      "Taxas            50\n",
      "Name: medida, dtype: int64\n",
      "<<<<<<<<<<<<<<<<<<<<<<<<<<<<<<<<<<<<<<<<<<<<<<<<<<<\n",
      "\n",
      ">>>>>>>>>>>>>>>>>>>>>>>>>>>>>>>>>>>>>>>>>>>>>>>>>>>\n",
      "Column [2016]\n",
      "94 unique values\n",
      "0 NaN values\n",
      "\n",
      "26.000000    1\n",
      "5.783428     1\n",
      "1.886868     1\n",
      "1.567495     1\n",
      "2.307519     1\n",
      "1.164048     1\n",
      "0.508243     1\n",
      "5.728874     1\n",
      "2.086835     1\n",
      "3.444877     1\n",
      "0.232776     1\n",
      "5.768797     1\n",
      "2.541836     1\n",
      "1.669756     1\n",
      "1.757842     1\n",
      "Name: 2016, dtype: int64\n",
      "<<<<<<<<<<<<<<<<<<<<<<<<<<<<<<<<<<<<<<<<<<<<<<<<<<<\n",
      "\n",
      ">>>>>>>>>>>>>>>>>>>>>>>>>>>>>>>>>>>>>>>>>>>>>>>>>>>\n",
      "Column [2017]\n",
      "94 unique values\n",
      "0 NaN values\n",
      "\n",
      "34.000000    1\n",
      "5.811926     1\n",
      "4.182279     1\n",
      "6.716462     1\n",
      "6.095125     1\n",
      "3.238636     1\n",
      "1.375330     1\n",
      "1.994828     1\n",
      "4.853495     1\n",
      "5.889322     1\n",
      "4.646837     1\n",
      "1.186181     1\n",
      "0.795000     1\n",
      "0.471867     1\n",
      "1.176840     1\n",
      "Name: 2017, dtype: int64\n",
      "<<<<<<<<<<<<<<<<<<<<<<<<<<<<<<<<<<<<<<<<<<<<<<<<<<<\n",
      "\n"
     ]
    }
   ],
   "source": [
    "# applying the function\n",
    "check_value_counts(femicides)"
   ]
  },
  {
   "cell_type": "markdown",
   "metadata": {
    "colab_type": "text",
    "id": "kpK0uuzB8sid"
   },
   "source": [
    "# Basic Analysis"
   ]
  },
  {
   "cell_type": "code",
   "execution_count": 40,
   "metadata": {
    "colab": {
     "base_uri": "https://localhost:8080/",
     "height": 300
    },
    "colab_type": "code",
    "executionInfo": {
     "elapsed": 3074,
     "status": "ok",
     "timestamp": 1558480574586,
     "user": {
      "displayName": "MARCOS JUNIOR",
      "photoUrl": "",
      "userId": "02126454598504023629"
     },
     "user_tz": 180
    },
    "id": "S7TZHRrCeTuv",
    "outputId": "7b2b8a58-17bf-45cf-f736-8b3cc35553dd"
   },
   "outputs": [
    {
     "data": {
      "text/html": [
       "<div>\n",
       "<style scoped>\n",
       "    .dataframe tbody tr th:only-of-type {\n",
       "        vertical-align: middle;\n",
       "    }\n",
       "\n",
       "    .dataframe tbody tr th {\n",
       "        vertical-align: top;\n",
       "    }\n",
       "\n",
       "    .dataframe thead th {\n",
       "        text-align: right;\n",
       "    }\n",
       "</style>\n",
       "<table border=\"1\" class=\"dataframe\">\n",
       "  <thead>\n",
       "    <tr style=\"text-align: right;\">\n",
       "      <th></th>\n",
       "      <th>unidade_federativa</th>\n",
       "      <th>grandeza</th>\n",
       "      <th>medida</th>\n",
       "      <th>2016</th>\n",
       "      <th>2017</th>\n",
       "    </tr>\n",
       "  </thead>\n",
       "  <tbody>\n",
       "    <tr>\n",
       "      <th>16</th>\n",
       "      <td>Amazonas</td>\n",
       "      <td>Nº de Vítimas</td>\n",
       "      <td>Ns. Absolutos</td>\n",
       "      <td>1023.000000</td>\n",
       "      <td>1119.000000</td>\n",
       "    </tr>\n",
       "    <tr>\n",
       "      <th>10</th>\n",
       "      <td>Piauí</td>\n",
       "      <td>Nº de Vítimas</td>\n",
       "      <td>Ns. Absolutos</td>\n",
       "      <td>642.000000</td>\n",
       "      <td>597.000000</td>\n",
       "    </tr>\n",
       "    <tr>\n",
       "      <th>1</th>\n",
       "      <td>Alagoas</td>\n",
       "      <td>Nº de Vítimas</td>\n",
       "      <td>Ns. Absolutos</td>\n",
       "      <td>1696.000000</td>\n",
       "      <td>1703.000000</td>\n",
       "    </tr>\n",
       "    <tr>\n",
       "      <th>12</th>\n",
       "      <td>Rio Grande do Norte</td>\n",
       "      <td>Nº de Vítimas</td>\n",
       "      <td>Ns. Absolutos</td>\n",
       "      <td>1748.000000</td>\n",
       "      <td>1863.000000</td>\n",
       "    </tr>\n",
       "    <tr>\n",
       "      <th>30</th>\n",
       "      <td>Ceará</td>\n",
       "      <td>Nº de Vítimas</td>\n",
       "      <td>Taxas</td>\n",
       "      <td>37.161147</td>\n",
       "      <td>55.895154</td>\n",
       "    </tr>\n",
       "    <tr>\n",
       "      <th>105</th>\n",
       "      <td>Rio Grande do Sul</td>\n",
       "      <td>Nº de Ocorrências</td>\n",
       "      <td>Taxas</td>\n",
       "      <td>23.443937</td>\n",
       "      <td>23.015315</td>\n",
       "    </tr>\n",
       "    <tr>\n",
       "      <th>74</th>\n",
       "      <td>Distrito Federal</td>\n",
       "      <td>Nº de Ocorrências</td>\n",
       "      <td>Ns. Absolutos</td>\n",
       "      <td>591.000000</td>\n",
       "      <td>498.000000</td>\n",
       "    </tr>\n",
       "    <tr>\n",
       "      <th>36</th>\n",
       "      <td>Paraíba</td>\n",
       "      <td>Nº de Vítimas</td>\n",
       "      <td>Taxas</td>\n",
       "      <td>32.004681</td>\n",
       "      <td>30.852866</td>\n",
       "    </tr>\n",
       "  </tbody>\n",
       "</table>\n",
       "</div>"
      ],
      "text/plain": [
       "      unidade_federativa           grandeza         medida         2016  \\\n",
       "16              Amazonas      Nº de Vítimas  Ns. Absolutos  1023.000000   \n",
       "10                 Piauí      Nº de Vítimas  Ns. Absolutos   642.000000   \n",
       "1                Alagoas      Nº de Vítimas  Ns. Absolutos  1696.000000   \n",
       "12   Rio Grande do Norte      Nº de Vítimas  Ns. Absolutos  1748.000000   \n",
       "30                 Ceará      Nº de Vítimas          Taxas    37.161147   \n",
       "105    Rio Grande do Sul  Nº de Ocorrências          Taxas    23.443937   \n",
       "74      Distrito Federal  Nº de Ocorrências  Ns. Absolutos   591.000000   \n",
       "36               Paraíba      Nº de Vítimas          Taxas    32.004681   \n",
       "\n",
       "            2017  \n",
       "16   1119.000000  \n",
       "10    597.000000  \n",
       "1    1703.000000  \n",
       "12   1863.000000  \n",
       "30     55.895154  \n",
       "105    23.015315  \n",
       "74    498.000000  \n",
       "36     30.852866  "
      ]
     },
     "execution_count": 40,
     "metadata": {},
     "output_type": "execute_result"
    }
   ],
   "source": [
    "homicides.sample(8)"
   ]
  },
  {
   "cell_type": "code",
   "execution_count": 41,
   "metadata": {
    "colab": {
     "base_uri": "https://localhost:8080/",
     "height": 300
    },
    "colab_type": "code",
    "executionInfo": {
     "elapsed": 3048,
     "status": "ok",
     "timestamp": 1558480574590,
     "user": {
      "displayName": "MARCOS JUNIOR",
      "photoUrl": "",
      "userId": "02126454598504023629"
     },
     "user_tz": 180
    },
    "id": "Rb8i54n6eVrC",
    "outputId": "2f99d12b-7a43-4d72-f6ec-f721778f87fe"
   },
   "outputs": [
    {
     "data": {
      "text/html": [
       "<div>\n",
       "<style scoped>\n",
       "    .dataframe tbody tr th:only-of-type {\n",
       "        vertical-align: middle;\n",
       "    }\n",
       "\n",
       "    .dataframe tbody tr th {\n",
       "        vertical-align: top;\n",
       "    }\n",
       "\n",
       "    .dataframe thead th {\n",
       "        text-align: right;\n",
       "    }\n",
       "</style>\n",
       "<table border=\"1\" class=\"dataframe\">\n",
       "  <thead>\n",
       "    <tr style=\"text-align: right;\">\n",
       "      <th></th>\n",
       "      <th>un_federativa</th>\n",
       "      <th>grandeza</th>\n",
       "      <th>medida</th>\n",
       "      <th>2016</th>\n",
       "      <th>2017</th>\n",
       "    </tr>\n",
       "  </thead>\n",
       "  <tbody>\n",
       "    <tr>\n",
       "      <th>4</th>\n",
       "      <td>Amazonas</td>\n",
       "      <td>Homicidios</td>\n",
       "      <td>Ns. Absolutos</td>\n",
       "      <td>68.000000</td>\n",
       "      <td>73.000000</td>\n",
       "    </tr>\n",
       "    <tr>\n",
       "      <th>54</th>\n",
       "      <td>Sergipe</td>\n",
       "      <td>Homicidios</td>\n",
       "      <td>Taxas</td>\n",
       "      <td>4.399787</td>\n",
       "      <td>5.889322</td>\n",
       "    </tr>\n",
       "    <tr>\n",
       "      <th>96</th>\n",
       "      <td>Mato Grosso do Sul</td>\n",
       "      <td>Feminicídios</td>\n",
       "      <td>Taxas</td>\n",
       "      <td>2.541836</td>\n",
       "      <td>1.994828</td>\n",
       "    </tr>\n",
       "    <tr>\n",
       "      <th>71</th>\n",
       "      <td>Paraíba</td>\n",
       "      <td>Feminicídios</td>\n",
       "      <td>Ns. Absolutos</td>\n",
       "      <td>24.000000</td>\n",
       "      <td>22.000000</td>\n",
       "    </tr>\n",
       "    <tr>\n",
       "      <th>105</th>\n",
       "      <td>Rio Grande do Sul</td>\n",
       "      <td>Feminicídios</td>\n",
       "      <td>Taxas</td>\n",
       "      <td>1.669756</td>\n",
       "      <td>1.438714</td>\n",
       "    </tr>\n",
       "    <tr>\n",
       "      <th>38</th>\n",
       "      <td>Maranhão</td>\n",
       "      <td>Homicidios</td>\n",
       "      <td>Taxas</td>\n",
       "      <td>3.499199</td>\n",
       "      <td>3.529754</td>\n",
       "    </tr>\n",
       "    <tr>\n",
       "      <th>22</th>\n",
       "      <td>Rondônia</td>\n",
       "      <td>Homicidios</td>\n",
       "      <td>Ns. Absolutos</td>\n",
       "      <td>44.000000</td>\n",
       "      <td>66.000000</td>\n",
       "    </tr>\n",
       "    <tr>\n",
       "      <th>39</th>\n",
       "      <td>Mato Grosso</td>\n",
       "      <td>Homicidios</td>\n",
       "      <td>Taxas</td>\n",
       "      <td>5.633998</td>\n",
       "      <td>5.135978</td>\n",
       "    </tr>\n",
       "  </tbody>\n",
       "</table>\n",
       "</div>"
      ],
      "text/plain": [
       "          un_federativa      grandeza         medida       2016       2017\n",
       "4              Amazonas    Homicidios  Ns. Absolutos  68.000000  73.000000\n",
       "54              Sergipe    Homicidios          Taxas   4.399787   5.889322\n",
       "96   Mato Grosso do Sul  Feminicídios          Taxas   2.541836   1.994828\n",
       "71              Paraíba  Feminicídios  Ns. Absolutos  24.000000  22.000000\n",
       "105   Rio Grande do Sul  Feminicídios          Taxas   1.669756   1.438714\n",
       "38             Maranhão    Homicidios          Taxas   3.499199   3.529754\n",
       "22             Rondônia    Homicidios  Ns. Absolutos  44.000000  66.000000\n",
       "39          Mato Grosso    Homicidios          Taxas   5.633998   5.135978"
      ]
     },
     "execution_count": 41,
     "metadata": {},
     "output_type": "execute_result"
    }
   ],
   "source": [
    "femicides.sample(8)"
   ]
  },
  {
   "cell_type": "code",
   "execution_count": 42,
   "metadata": {
    "colab": {
     "base_uri": "https://localhost:8080/",
     "height": 175
    },
    "colab_type": "code",
    "executionInfo": {
     "elapsed": 3019,
     "status": "ok",
     "timestamp": 1558480574592,
     "user": {
      "displayName": "MARCOS JUNIOR",
      "photoUrl": "",
      "userId": "02126454598504023629"
     },
     "user_tz": 180
    },
    "id": "fAM2A9UBenk6",
    "outputId": "704b39ac-70bf-4a3c-afc3-180a788175a4"
   },
   "outputs": [
    {
     "data": {
      "text/html": [
       "<div>\n",
       "<style scoped>\n",
       "    .dataframe tbody tr th:only-of-type {\n",
       "        vertical-align: middle;\n",
       "    }\n",
       "\n",
       "    .dataframe tbody tr th {\n",
       "        vertical-align: top;\n",
       "    }\n",
       "\n",
       "    .dataframe thead th {\n",
       "        text-align: right;\n",
       "    }\n",
       "</style>\n",
       "<table border=\"1\" class=\"dataframe\">\n",
       "  <thead>\n",
       "    <tr style=\"text-align: right;\">\n",
       "      <th></th>\n",
       "      <th>unidade_federativa</th>\n",
       "      <th>grandeza</th>\n",
       "      <th>medida</th>\n",
       "      <th>2016</th>\n",
       "      <th>2017</th>\n",
       "    </tr>\n",
       "  </thead>\n",
       "  <tbody>\n",
       "    <tr>\n",
       "      <th>9</th>\n",
       "      <td>Pernambuco</td>\n",
       "      <td>Nº de Vítimas</td>\n",
       "      <td>Ns. Absolutos</td>\n",
       "      <td>4277.000000</td>\n",
       "      <td>5139.000000</td>\n",
       "    </tr>\n",
       "    <tr>\n",
       "      <th>37</th>\n",
       "      <td>Pernambuco</td>\n",
       "      <td>Nº de Vítimas</td>\n",
       "      <td>Taxas</td>\n",
       "      <td>45.450024</td>\n",
       "      <td>54.247395</td>\n",
       "    </tr>\n",
       "    <tr>\n",
       "      <th>65</th>\n",
       "      <td>Pernambuco</td>\n",
       "      <td>Nº de Ocorrências</td>\n",
       "      <td>Ns. Absolutos</td>\n",
       "      <td>4116.000000</td>\n",
       "      <td>4894.000000</td>\n",
       "    </tr>\n",
       "    <tr>\n",
       "      <th>93</th>\n",
       "      <td>Pernambuco</td>\n",
       "      <td>Nº de Ocorrências</td>\n",
       "      <td>Taxas</td>\n",
       "      <td>43.739140</td>\n",
       "      <td>51.661169</td>\n",
       "    </tr>\n",
       "  </tbody>\n",
       "</table>\n",
       "</div>"
      ],
      "text/plain": [
       "   unidade_federativa           grandeza         medida         2016  \\\n",
       "9          Pernambuco      Nº de Vítimas  Ns. Absolutos  4277.000000   \n",
       "37         Pernambuco      Nº de Vítimas          Taxas    45.450024   \n",
       "65         Pernambuco  Nº de Ocorrências  Ns. Absolutos  4116.000000   \n",
       "93         Pernambuco  Nº de Ocorrências          Taxas    43.739140   \n",
       "\n",
       "           2017  \n",
       "9   5139.000000  \n",
       "37    54.247395  \n",
       "65  4894.000000  \n",
       "93    51.661169  "
      ]
     },
     "execution_count": 42,
     "metadata": {},
     "output_type": "execute_result"
    }
   ],
   "source": [
    "mask_homicides_bahia = homicides.unidade_federativa == 'Pernambuco'\n",
    "\n",
    "homicides[mask_homicides_bahia]"
   ]
  },
  {
   "cell_type": "code",
   "execution_count": 43,
   "metadata": {
    "colab": {
     "base_uri": "https://localhost:8080/",
     "height": 175
    },
    "colab_type": "code",
    "executionInfo": {
     "elapsed": 2983,
     "status": "ok",
     "timestamp": 1558480574594,
     "user": {
      "displayName": "MARCOS JUNIOR",
      "photoUrl": "",
      "userId": "02126454598504023629"
     },
     "user_tz": 180
    },
    "id": "oE2l7a9lfvBd",
    "outputId": "8707ff2e-6f97-4ab8-a8ad-da95fac569f8"
   },
   "outputs": [
    {
     "data": {
      "text/html": [
       "<div>\n",
       "<style scoped>\n",
       "    .dataframe tbody tr th:only-of-type {\n",
       "        vertical-align: middle;\n",
       "    }\n",
       "\n",
       "    .dataframe tbody tr th {\n",
       "        vertical-align: top;\n",
       "    }\n",
       "\n",
       "    .dataframe thead th {\n",
       "        text-align: right;\n",
       "    }\n",
       "</style>\n",
       "<table border=\"1\" class=\"dataframe\">\n",
       "  <thead>\n",
       "    <tr style=\"text-align: right;\">\n",
       "      <th></th>\n",
       "      <th>un_federativa</th>\n",
       "      <th>grandeza</th>\n",
       "      <th>medida</th>\n",
       "      <th>2016</th>\n",
       "      <th>2017</th>\n",
       "    </tr>\n",
       "  </thead>\n",
       "  <tbody>\n",
       "    <tr>\n",
       "      <th>17</th>\n",
       "      <td>Pernambuco</td>\n",
       "      <td>Homicidios</td>\n",
       "      <td>Ns. Absolutos</td>\n",
       "      <td>280.000000</td>\n",
       "      <td>316.000000</td>\n",
       "    </tr>\n",
       "    <tr>\n",
       "      <th>45</th>\n",
       "      <td>Pernambuco</td>\n",
       "      <td>Homicidios</td>\n",
       "      <td>Taxas</td>\n",
       "      <td>5.768797</td>\n",
       "      <td>6.464756</td>\n",
       "    </tr>\n",
       "    <tr>\n",
       "      <th>73</th>\n",
       "      <td>Pernambuco</td>\n",
       "      <td>Feminicídios</td>\n",
       "      <td>Ns. Absolutos</td>\n",
       "      <td>112.000000</td>\n",
       "      <td>76.000000</td>\n",
       "    </tr>\n",
       "    <tr>\n",
       "      <th>101</th>\n",
       "      <td>Pernambuco</td>\n",
       "      <td>Feminicídios</td>\n",
       "      <td>Taxas</td>\n",
       "      <td>2.307519</td>\n",
       "      <td>1.554815</td>\n",
       "    </tr>\n",
       "  </tbody>\n",
       "</table>\n",
       "</div>"
      ],
      "text/plain": [
       "    un_federativa      grandeza         medida        2016        2017\n",
       "17     Pernambuco    Homicidios  Ns. Absolutos  280.000000  316.000000\n",
       "45     Pernambuco    Homicidios          Taxas    5.768797    6.464756\n",
       "73     Pernambuco  Feminicídios  Ns. Absolutos  112.000000   76.000000\n",
       "101    Pernambuco  Feminicídios          Taxas    2.307519    1.554815"
      ]
     },
     "execution_count": 43,
     "metadata": {},
     "output_type": "execute_result"
    }
   ],
   "source": [
    "mask_femicides_bahia = femicides.un_federativa == 'Pernambuco'\n",
    "\n",
    "femicides[mask_femicides_bahia]"
   ]
  },
  {
   "cell_type": "markdown",
   "metadata": {
    "colab_type": "text",
    "id": "Yzfum0nbl5Gd"
   },
   "source": [
    "**Note**\n",
    "\n",
    "The number of occurrences means registration at a police station and is expected to be equal or less than the number victims.\n",
    "\n",
    "The rates are in number per 100 thousand inhabitants.\n",
    "\n",
    "**Possible plots**\n",
    "\n",
    "* Total of homicides per federative unit in absolute numbers for each year (from *homicides* dataset) [2 plots]\n",
    "* Total of homicides against women and femicides per federative unit in absolute numbers for each year (from *femicides* dataset, doing a `groupby`) [2 plots]\n",
    "* Total of femicides, specifically, por federative unit in absolute numbers for each year (from *femicides* dataset) [2 plots]\n",
    "* Poportion between the total of homicides and total of femicides and women homicides in absolute numbers for each year [2 plots]\n",
    "* The same plots above in terms of variation from 2016 to 2017 [8 plots]\n",
    "* The set of plots in terms of rates [16 plots]"
   ]
  },
  {
   "cell_type": "code",
   "execution_count": 44,
   "metadata": {
    "colab": {
     "base_uri": "https://localhost:8080/",
     "height": 206
    },
    "colab_type": "code",
    "executionInfo": {
     "elapsed": 783,
     "status": "ok",
     "timestamp": 1558481052244,
     "user": {
      "displayName": "MARCOS JUNIOR",
      "photoUrl": "",
      "userId": "02126454598504023629"
     },
     "user_tz": 180
    },
    "id": "4-mSKIBftQdH",
    "outputId": "7196f978-e5a1-434e-f8a1-3fc9bf0b3105"
   },
   "outputs": [
    {
     "data": {
      "text/html": [
       "<div>\n",
       "<style scoped>\n",
       "    .dataframe tbody tr th:only-of-type {\n",
       "        vertical-align: middle;\n",
       "    }\n",
       "\n",
       "    .dataframe tbody tr th {\n",
       "        vertical-align: top;\n",
       "    }\n",
       "\n",
       "    .dataframe thead th {\n",
       "        text-align: right;\n",
       "    }\n",
       "</style>\n",
       "<table border=\"1\" class=\"dataframe\">\n",
       "  <thead>\n",
       "    <tr style=\"text-align: right;\">\n",
       "      <th></th>\n",
       "      <th></th>\n",
       "      <th>unidade_federativa</th>\n",
       "      <th>2016</th>\n",
       "      <th>2017</th>\n",
       "    </tr>\n",
       "    <tr>\n",
       "      <th>grandeza</th>\n",
       "      <th>medida</th>\n",
       "      <th></th>\n",
       "      <th></th>\n",
       "      <th></th>\n",
       "    </tr>\n",
       "  </thead>\n",
       "  <tbody>\n",
       "    <tr>\n",
       "      <th rowspan=\"2\" valign=\"top\">Nº de Ocorrências</th>\n",
       "      <th>Ns. Absolutos</th>\n",
       "      <td>24</td>\n",
       "      <td>24</td>\n",
       "      <td>24</td>\n",
       "    </tr>\n",
       "    <tr>\n",
       "      <th>Taxas</th>\n",
       "      <td>24</td>\n",
       "      <td>24</td>\n",
       "      <td>24</td>\n",
       "    </tr>\n",
       "    <tr>\n",
       "      <th rowspan=\"2\" valign=\"top\">Nº de Vítimas</th>\n",
       "      <th>Ns. Absolutos</th>\n",
       "      <td>27</td>\n",
       "      <td>27</td>\n",
       "      <td>27</td>\n",
       "    </tr>\n",
       "    <tr>\n",
       "      <th>Taxas</th>\n",
       "      <td>27</td>\n",
       "      <td>27</td>\n",
       "      <td>27</td>\n",
       "    </tr>\n",
       "  </tbody>\n",
       "</table>\n",
       "</div>"
      ],
      "text/plain": [
       "                                 unidade_federativa  2016  2017\n",
       "grandeza          medida                                       \n",
       "Nº de Ocorrências Ns. Absolutos                  24    24    24\n",
       "                  Taxas                          24    24    24\n",
       "Nº de Vítimas     Ns. Absolutos                  27    27    27\n",
       "                  Taxas                          27    27    27"
      ]
     },
     "execution_count": 44,
     "metadata": {},
     "output_type": "execute_result"
    }
   ],
   "source": [
    "homicides.groupby(['grandeza','medida']).count()"
   ]
  },
  {
   "cell_type": "code",
   "execution_count": 45,
   "metadata": {
    "colab": {
     "base_uri": "https://localhost:8080/",
     "height": 35
    },
    "colab_type": "code",
    "executionInfo": {
     "elapsed": 688,
     "status": "ok",
     "timestamp": 1558481116402,
     "user": {
      "displayName": "MARCOS JUNIOR",
      "photoUrl": "",
      "userId": "02126454598504023629"
     },
     "user_tz": 180
    },
    "id": "XsUUMYrjtfNu",
    "outputId": "ee035b39-f124-4dd5-ae45-4c905480a13f"
   },
   "outputs": [
    {
     "data": {
      "text/plain": [
       "27"
      ]
     },
     "execution_count": 45,
     "metadata": {},
     "output_type": "execute_result"
    }
   ],
   "source": [
    "len(homicides.unidade_federativa.unique())"
   ]
  },
  {
   "cell_type": "code",
   "execution_count": 46,
   "metadata": {
    "colab": {
     "base_uri": "https://localhost:8080/",
     "height": 2023
    },
    "colab_type": "code",
    "executionInfo": {
     "elapsed": 826,
     "status": "ok",
     "timestamp": 1558481196477,
     "user": {
      "displayName": "MARCOS JUNIOR",
      "photoUrl": "",
      "userId": "02126454598504023629"
     },
     "user_tz": 180
    },
    "id": "0qUc3hjXtusQ",
    "outputId": "663d1cdb-32c6-4de8-c552-2cb426dc540c",
    "scrolled": true
   },
   "outputs": [
    {
     "data": {
      "text/html": [
       "<div>\n",
       "<style scoped>\n",
       "    .dataframe tbody tr th:only-of-type {\n",
       "        vertical-align: middle;\n",
       "    }\n",
       "\n",
       "    .dataframe tbody tr th {\n",
       "        vertical-align: top;\n",
       "    }\n",
       "\n",
       "    .dataframe thead th {\n",
       "        text-align: right;\n",
       "    }\n",
       "</style>\n",
       "<table border=\"1\" class=\"dataframe\">\n",
       "  <thead>\n",
       "    <tr style=\"text-align: right;\">\n",
       "      <th></th>\n",
       "      <th></th>\n",
       "      <th></th>\n",
       "      <th>2016</th>\n",
       "      <th>2017</th>\n",
       "    </tr>\n",
       "    <tr>\n",
       "      <th>unidade_federativa</th>\n",
       "      <th>grandeza</th>\n",
       "      <th>medida</th>\n",
       "      <th></th>\n",
       "      <th></th>\n",
       "    </tr>\n",
       "  </thead>\n",
       "  <tbody>\n",
       "    <tr>\n",
       "      <th rowspan=\"4\" valign=\"top\">Acre</th>\n",
       "      <th rowspan=\"2\" valign=\"top\">Nº de Ocorrências</th>\n",
       "      <th>Ns. Absolutos</th>\n",
       "      <td>341.000000</td>\n",
       "      <td>482.000000</td>\n",
       "    </tr>\n",
       "    <tr>\n",
       "      <th>Taxas</th>\n",
       "      <td>41.754062</td>\n",
       "      <td>58.098959</td>\n",
       "    </tr>\n",
       "    <tr>\n",
       "      <th rowspan=\"2\" valign=\"top\">Nº de Vítimas</th>\n",
       "      <th>Ns. Absolutos</th>\n",
       "      <td>354.000000</td>\n",
       "      <td>502.000000</td>\n",
       "    </tr>\n",
       "    <tr>\n",
       "      <th>Taxas</th>\n",
       "      <td>43.345860</td>\n",
       "      <td>60.509704</td>\n",
       "    </tr>\n",
       "    <tr>\n",
       "      <th rowspan=\"4\" valign=\"top\">Alagoas</th>\n",
       "      <th rowspan=\"2\" valign=\"top\">Nº de Ocorrências</th>\n",
       "      <th>Ns. Absolutos</th>\n",
       "      <td>1627.000000</td>\n",
       "      <td>1617.000000</td>\n",
       "    </tr>\n",
       "    <tr>\n",
       "      <th>Taxas</th>\n",
       "      <td>48.437568</td>\n",
       "      <td>47.899431</td>\n",
       "    </tr>\n",
       "    <tr>\n",
       "      <th rowspan=\"2\" valign=\"top\">Nº de Vítimas</th>\n",
       "      <th>Ns. Absolutos</th>\n",
       "      <td>1696.000000</td>\n",
       "      <td>1703.000000</td>\n",
       "    </tr>\n",
       "    <tr>\n",
       "      <th>Taxas</th>\n",
       "      <td>50.491774</td>\n",
       "      <td>50.446958</td>\n",
       "    </tr>\n",
       "    <tr>\n",
       "      <th rowspan=\"4\" valign=\"top\">Amapá</th>\n",
       "      <th rowspan=\"2\" valign=\"top\">Nº de Ocorrências</th>\n",
       "      <th>Ns. Absolutos</th>\n",
       "      <td>308.000000</td>\n",
       "      <td>325.000000</td>\n",
       "    </tr>\n",
       "    <tr>\n",
       "      <th>Taxas</th>\n",
       "      <td>39.371337</td>\n",
       "      <td>40.741010</td>\n",
       "    </tr>\n",
       "    <tr>\n",
       "      <th rowspan=\"2\" valign=\"top\">Nº de Vítimas</th>\n",
       "      <th>Ns. Absolutos</th>\n",
       "      <td>307.000000</td>\n",
       "      <td>352.000000</td>\n",
       "    </tr>\n",
       "    <tr>\n",
       "      <th>Taxas</th>\n",
       "      <td>39.243508</td>\n",
       "      <td>44.125648</td>\n",
       "    </tr>\n",
       "    <tr>\n",
       "      <th rowspan=\"4\" valign=\"top\">Amazonas</th>\n",
       "      <th rowspan=\"2\" valign=\"top\">Nº de Ocorrências</th>\n",
       "      <th>Ns. Absolutos</th>\n",
       "      <td>981.000000</td>\n",
       "      <td>1010.000000</td>\n",
       "    </tr>\n",
       "    <tr>\n",
       "      <th>Taxas</th>\n",
       "      <td>24.514783</td>\n",
       "      <td>24.854723</td>\n",
       "    </tr>\n",
       "    <tr>\n",
       "      <th rowspan=\"2\" valign=\"top\">Nº de Vítimas</th>\n",
       "      <th>Ns. Absolutos</th>\n",
       "      <td>1023.000000</td>\n",
       "      <td>1119.000000</td>\n",
       "    </tr>\n",
       "    <tr>\n",
       "      <th>Taxas</th>\n",
       "      <td>25.564346</td>\n",
       "      <td>27.537064</td>\n",
       "    </tr>\n",
       "    <tr>\n",
       "      <th rowspan=\"4\" valign=\"top\">Bahia</th>\n",
       "      <th rowspan=\"2\" valign=\"top\">Nº de Ocorrências</th>\n",
       "      <th>Ns. Absolutos</th>\n",
       "      <td>5964.000000</td>\n",
       "      <td>5648.000000</td>\n",
       "    </tr>\n",
       "    <tr>\n",
       "      <th>Taxas</th>\n",
       "      <td>39.040187</td>\n",
       "      <td>36.808104</td>\n",
       "    </tr>\n",
       "    <tr>\n",
       "      <th rowspan=\"2\" valign=\"top\">Nº de Vítimas</th>\n",
       "      <th>Ns. Absolutos</th>\n",
       "      <td>6310.000000</td>\n",
       "      <td>6008.000000</td>\n",
       "    </tr>\n",
       "    <tr>\n",
       "      <th>Taxas</th>\n",
       "      <td>41.305094</td>\n",
       "      <td>39.154230</td>\n",
       "    </tr>\n",
       "    <tr>\n",
       "      <th rowspan=\"4\" valign=\"top\">Ceará</th>\n",
       "      <th rowspan=\"2\" valign=\"top\">Nº de Ocorrências</th>\n",
       "      <th>Ns. Absolutos</th>\n",
       "      <td>3163.000000</td>\n",
       "      <td>4743.000000</td>\n",
       "    </tr>\n",
       "    <tr>\n",
       "      <th>Taxas</th>\n",
       "      <td>35.286913</td>\n",
       "      <td>52.580467</td>\n",
       "    </tr>\n",
       "    <tr>\n",
       "      <th rowspan=\"2\" valign=\"top\">Nº de Vítimas</th>\n",
       "      <th>Ns. Absolutos</th>\n",
       "      <td>3331.000000</td>\n",
       "      <td>5042.000000</td>\n",
       "    </tr>\n",
       "    <tr>\n",
       "      <th>Taxas</th>\n",
       "      <td>37.161147</td>\n",
       "      <td>55.895154</td>\n",
       "    </tr>\n",
       "    <tr>\n",
       "      <th rowspan=\"4\" valign=\"top\">Distrito Federal</th>\n",
       "      <th rowspan=\"2\" valign=\"top\">Nº de Ocorrências</th>\n",
       "      <th>Ns. Absolutos</th>\n",
       "      <td>591.000000</td>\n",
       "      <td>498.000000</td>\n",
       "    </tr>\n",
       "    <tr>\n",
       "      <th>Taxas</th>\n",
       "      <td>19.850760</td>\n",
       "      <td>16.384576</td>\n",
       "    </tr>\n",
       "    <tr>\n",
       "      <th rowspan=\"2\" valign=\"top\">Nº de Vítimas</th>\n",
       "      <th>Ns. Absolutos</th>\n",
       "      <td>603.000000</td>\n",
       "      <td>504.000000</td>\n",
       "    </tr>\n",
       "    <tr>\n",
       "      <th>Taxas</th>\n",
       "      <td>20.253821</td>\n",
       "      <td>16.581980</td>\n",
       "    </tr>\n",
       "    <tr>\n",
       "      <th rowspan=\"2\" valign=\"top\">Espírito Santo</th>\n",
       "      <th rowspan=\"2\" valign=\"top\">Nº de Ocorrências</th>\n",
       "      <th>Ns. Absolutos</th>\n",
       "      <td>1177.000000</td>\n",
       "      <td>1386.000000</td>\n",
       "    </tr>\n",
       "    <tr>\n",
       "      <th>Taxas</th>\n",
       "      <td>29.619772</td>\n",
       "      <td>34.508893</td>\n",
       "    </tr>\n",
       "    <tr>\n",
       "      <th>...</th>\n",
       "      <th>...</th>\n",
       "      <th>...</th>\n",
       "      <td>...</td>\n",
       "      <td>...</td>\n",
       "    </tr>\n",
       "    <tr>\n",
       "      <th rowspan=\"4\" valign=\"top\">Rio Grande do Sul</th>\n",
       "      <th rowspan=\"2\" valign=\"top\">Nº de Ocorrências</th>\n",
       "      <th>Ns. Absolutos</th>\n",
       "      <td>2646.000000</td>\n",
       "      <td>2606.000000</td>\n",
       "    </tr>\n",
       "    <tr>\n",
       "      <th>Taxas</th>\n",
       "      <td>23.443937</td>\n",
       "      <td>23.015315</td>\n",
       "    </tr>\n",
       "    <tr>\n",
       "      <th rowspan=\"2\" valign=\"top\">Nº de Vítimas</th>\n",
       "      <th>Ns. Absolutos</th>\n",
       "      <td>2856.000000</td>\n",
       "      <td>2865.000000</td>\n",
       "    </tr>\n",
       "    <tr>\n",
       "      <th>Taxas</th>\n",
       "      <td>25.304567</td>\n",
       "      <td>25.302716</td>\n",
       "    </tr>\n",
       "    <tr>\n",
       "      <th rowspan=\"4\" valign=\"top\">Rio de Janeiro</th>\n",
       "      <th rowspan=\"2\" valign=\"top\">Nº de Ocorrências</th>\n",
       "      <th>Ns. Absolutos</th>\n",
       "      <td>4641.000000</td>\n",
       "      <td>4923.000000</td>\n",
       "    </tr>\n",
       "    <tr>\n",
       "      <th>Taxas</th>\n",
       "      <td>27.897338</td>\n",
       "      <td>29.445618</td>\n",
       "    </tr>\n",
       "    <tr>\n",
       "      <th rowspan=\"2\" valign=\"top\">Nº de Vítimas</th>\n",
       "      <th>Ns. Absolutos</th>\n",
       "      <td>5042.000000</td>\n",
       "      <td>5346.000000</td>\n",
       "    </tr>\n",
       "    <tr>\n",
       "      <th>Taxas</th>\n",
       "      <td>30.307774</td>\n",
       "      <td>31.975681</td>\n",
       "    </tr>\n",
       "    <tr>\n",
       "      <th rowspan=\"4\" valign=\"top\">Rondônia</th>\n",
       "      <th rowspan=\"2\" valign=\"top\">Nº de Ocorrências</th>\n",
       "      <th>Ns. Absolutos</th>\n",
       "      <td>535.000000</td>\n",
       "      <td>459.000000</td>\n",
       "    </tr>\n",
       "    <tr>\n",
       "      <th>Taxas</th>\n",
       "      <td>29.933771</td>\n",
       "      <td>25.418266</td>\n",
       "    </tr>\n",
       "    <tr>\n",
       "      <th rowspan=\"2\" valign=\"top\">Nº de Vítimas</th>\n",
       "      <th>Ns. Absolutos</th>\n",
       "      <td>545.000000</td>\n",
       "      <td>481.000000</td>\n",
       "    </tr>\n",
       "    <tr>\n",
       "      <th>Taxas</th>\n",
       "      <td>30.493281</td>\n",
       "      <td>26.636571</td>\n",
       "    </tr>\n",
       "    <tr>\n",
       "      <th rowspan=\"4\" valign=\"top\">Roraima</th>\n",
       "      <th rowspan=\"2\" valign=\"top\">Nº de Ocorrências</th>\n",
       "      <th>Ns. Absolutos</th>\n",
       "      <td>192.000000</td>\n",
       "      <td>212.000000</td>\n",
       "    </tr>\n",
       "    <tr>\n",
       "      <th>Taxas</th>\n",
       "      <td>37.337451</td>\n",
       "      <td>40.563604</td>\n",
       "    </tr>\n",
       "    <tr>\n",
       "      <th rowspan=\"2\" valign=\"top\">Nº de Vítimas</th>\n",
       "      <th>Ns. Absolutos</th>\n",
       "      <td>192.000000</td>\n",
       "      <td>212.000000</td>\n",
       "    </tr>\n",
       "    <tr>\n",
       "      <th>Taxas</th>\n",
       "      <td>37.337451</td>\n",
       "      <td>40.563604</td>\n",
       "    </tr>\n",
       "    <tr>\n",
       "      <th rowspan=\"4\" valign=\"top\">Santa Catarina</th>\n",
       "      <th rowspan=\"2\" valign=\"top\">Nº de Ocorrências</th>\n",
       "      <th>Ns. Absolutos</th>\n",
       "      <td>860.000000</td>\n",
       "      <td>943.000000</td>\n",
       "    </tr>\n",
       "    <tr>\n",
       "      <th>Taxas</th>\n",
       "      <td>12.444735</td>\n",
       "      <td>13.469195</td>\n",
       "    </tr>\n",
       "    <tr>\n",
       "      <th rowspan=\"2\" valign=\"top\">Nº de Vítimas</th>\n",
       "      <th>Ns. Absolutos</th>\n",
       "      <td>896.000000</td>\n",
       "      <td>990.000000</td>\n",
       "    </tr>\n",
       "    <tr>\n",
       "      <th>Taxas</th>\n",
       "      <td>12.965677</td>\n",
       "      <td>14.140512</td>\n",
       "    </tr>\n",
       "    <tr>\n",
       "      <th rowspan=\"2\" valign=\"top\">Sergipe</th>\n",
       "      <th rowspan=\"2\" valign=\"top\">Nº de Vítimas</th>\n",
       "      <th>Ns. Absolutos</th>\n",
       "      <td>1306.000000</td>\n",
       "      <td>1121.000000</td>\n",
       "    </tr>\n",
       "    <tr>\n",
       "      <th>Taxas</th>\n",
       "      <td>57.640220</td>\n",
       "      <td>48.992271</td>\n",
       "    </tr>\n",
       "    <tr>\n",
       "      <th rowspan=\"4\" valign=\"top\">São Paulo</th>\n",
       "      <th rowspan=\"2\" valign=\"top\">Nº de Ocorrências</th>\n",
       "      <th>Ns. Absolutos</th>\n",
       "      <td>3521.000000</td>\n",
       "      <td>3294.000000</td>\n",
       "    </tr>\n",
       "    <tr>\n",
       "      <th>Taxas</th>\n",
       "      <td>7.868209</td>\n",
       "      <td>7.304601</td>\n",
       "    </tr>\n",
       "    <tr>\n",
       "      <th rowspan=\"2\" valign=\"top\">Nº de Vítimas</th>\n",
       "      <th>Ns. Absolutos</th>\n",
       "      <td>3674.000000</td>\n",
       "      <td>3504.000000</td>\n",
       "    </tr>\n",
       "    <tr>\n",
       "      <th>Taxas</th>\n",
       "      <td>8.210111</td>\n",
       "      <td>7.770286</td>\n",
       "    </tr>\n",
       "    <tr>\n",
       "      <th rowspan=\"4\" valign=\"top\">Tocantins</th>\n",
       "      <th rowspan=\"2\" valign=\"top\">Nº de Ocorrências</th>\n",
       "      <th>Ns. Absolutos</th>\n",
       "      <td>417.000000</td>\n",
       "      <td>333.000000</td>\n",
       "    </tr>\n",
       "    <tr>\n",
       "      <th>Taxas</th>\n",
       "      <td>27.203305</td>\n",
       "      <td>21.481182</td>\n",
       "    </tr>\n",
       "    <tr>\n",
       "      <th rowspan=\"2\" valign=\"top\">Nº de Vítimas</th>\n",
       "      <th>Ns. Absolutos</th>\n",
       "      <td>427.000000</td>\n",
       "      <td>349.000000</td>\n",
       "    </tr>\n",
       "    <tr>\n",
       "      <th>Taxas</th>\n",
       "      <td>27.855662</td>\n",
       "      <td>22.513311</td>\n",
       "    </tr>\n",
       "  </tbody>\n",
       "</table>\n",
       "<p>102 rows × 2 columns</p>\n",
       "</div>"
      ],
      "text/plain": [
       "                                                           2016         2017\n",
       "unidade_federativa grandeza          medida                                 \n",
       "Acre               Nº de Ocorrências Ns. Absolutos   341.000000   482.000000\n",
       "                                     Taxas            41.754062    58.098959\n",
       "                   Nº de Vítimas     Ns. Absolutos   354.000000   502.000000\n",
       "                                     Taxas            43.345860    60.509704\n",
       "Alagoas            Nº de Ocorrências Ns. Absolutos  1627.000000  1617.000000\n",
       "                                     Taxas            48.437568    47.899431\n",
       "                   Nº de Vítimas     Ns. Absolutos  1696.000000  1703.000000\n",
       "                                     Taxas            50.491774    50.446958\n",
       "Amapá              Nº de Ocorrências Ns. Absolutos   308.000000   325.000000\n",
       "                                     Taxas            39.371337    40.741010\n",
       "                   Nº de Vítimas     Ns. Absolutos   307.000000   352.000000\n",
       "                                     Taxas            39.243508    44.125648\n",
       "Amazonas           Nº de Ocorrências Ns. Absolutos   981.000000  1010.000000\n",
       "                                     Taxas            24.514783    24.854723\n",
       "                   Nº de Vítimas     Ns. Absolutos  1023.000000  1119.000000\n",
       "                                     Taxas            25.564346    27.537064\n",
       "Bahia              Nº de Ocorrências Ns. Absolutos  5964.000000  5648.000000\n",
       "                                     Taxas            39.040187    36.808104\n",
       "                   Nº de Vítimas     Ns. Absolutos  6310.000000  6008.000000\n",
       "                                     Taxas            41.305094    39.154230\n",
       "Ceará              Nº de Ocorrências Ns. Absolutos  3163.000000  4743.000000\n",
       "                                     Taxas            35.286913    52.580467\n",
       "                   Nº de Vítimas     Ns. Absolutos  3331.000000  5042.000000\n",
       "                                     Taxas            37.161147    55.895154\n",
       "Distrito Federal   Nº de Ocorrências Ns. Absolutos   591.000000   498.000000\n",
       "                                     Taxas            19.850760    16.384576\n",
       "                   Nº de Vítimas     Ns. Absolutos   603.000000   504.000000\n",
       "                                     Taxas            20.253821    16.581980\n",
       "Espírito Santo     Nº de Ocorrências Ns. Absolutos  1177.000000  1386.000000\n",
       "                                     Taxas            29.619772    34.508893\n",
       "...                                                         ...          ...\n",
       "Rio Grande do Sul  Nº de Ocorrências Ns. Absolutos  2646.000000  2606.000000\n",
       "                                     Taxas            23.443937    23.015315\n",
       "                   Nº de Vítimas     Ns. Absolutos  2856.000000  2865.000000\n",
       "                                     Taxas            25.304567    25.302716\n",
       "Rio de Janeiro     Nº de Ocorrências Ns. Absolutos  4641.000000  4923.000000\n",
       "                                     Taxas            27.897338    29.445618\n",
       "                   Nº de Vítimas     Ns. Absolutos  5042.000000  5346.000000\n",
       "                                     Taxas            30.307774    31.975681\n",
       "Rondônia           Nº de Ocorrências Ns. Absolutos   535.000000   459.000000\n",
       "                                     Taxas            29.933771    25.418266\n",
       "                   Nº de Vítimas     Ns. Absolutos   545.000000   481.000000\n",
       "                                     Taxas            30.493281    26.636571\n",
       "Roraima            Nº de Ocorrências Ns. Absolutos   192.000000   212.000000\n",
       "                                     Taxas            37.337451    40.563604\n",
       "                   Nº de Vítimas     Ns. Absolutos   192.000000   212.000000\n",
       "                                     Taxas            37.337451    40.563604\n",
       "Santa Catarina     Nº de Ocorrências Ns. Absolutos   860.000000   943.000000\n",
       "                                     Taxas            12.444735    13.469195\n",
       "                   Nº de Vítimas     Ns. Absolutos   896.000000   990.000000\n",
       "                                     Taxas            12.965677    14.140512\n",
       "Sergipe            Nº de Vítimas     Ns. Absolutos  1306.000000  1121.000000\n",
       "                                     Taxas            57.640220    48.992271\n",
       "São Paulo          Nº de Ocorrências Ns. Absolutos  3521.000000  3294.000000\n",
       "                                     Taxas             7.868209     7.304601\n",
       "                   Nº de Vítimas     Ns. Absolutos  3674.000000  3504.000000\n",
       "                                     Taxas             8.210111     7.770286\n",
       "Tocantins          Nº de Ocorrências Ns. Absolutos   417.000000   333.000000\n",
       "                                     Taxas            27.203305    21.481182\n",
       "                   Nº de Vítimas     Ns. Absolutos   427.000000   349.000000\n",
       "                                     Taxas            27.855662    22.513311\n",
       "\n",
       "[102 rows x 2 columns]"
      ]
     },
     "execution_count": 46,
     "metadata": {},
     "output_type": "execute_result"
    }
   ],
   "source": [
    "homicides.groupby(['unidade_federativa','grandeza','medida']).max()"
   ]
  }
 ],
 "metadata": {
  "colab": {
   "collapsed_sections": [
    "nu_-T43iKl1N",
    "TDT7rR3LImpg",
    "_wjsw7hiMWbv",
    "eKnO5KvxROHd",
    "iKpom8Rjj-d_"
   ],
   "name": "2019-05-20-macj-initial-exploration-cleaning.ipynb",
   "provenance": [],
   "toc_visible": true,
   "version": "0.3.2"
  },
  "kernelspec": {
   "display_name": "Python 3",
   "language": "python",
   "name": "python3"
  },
  "language_info": {
   "codemirror_mode": {
    "name": "ipython",
    "version": 3
   },
   "file_extension": ".py",
   "mimetype": "text/x-python",
   "name": "python",
   "nbconvert_exporter": "python",
   "pygments_lexer": "ipython3",
   "version": "3.5.2"
  }
 },
 "nbformat": 4,
 "nbformat_minor": 1
}
